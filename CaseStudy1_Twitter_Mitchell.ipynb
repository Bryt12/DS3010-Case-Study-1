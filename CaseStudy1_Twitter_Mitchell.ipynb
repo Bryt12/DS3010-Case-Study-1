{
 "cells": [
  {
   "cell_type": "markdown",
   "metadata": {},
   "source": [
    "# Case Study 1 : Collecting Data from Twitter\n",
    "\n",
    "Due Date: 2/8/2021, "
   ]
  },
  {
   "cell_type": "markdown",
   "metadata": {},
   "source": [
    "<img src=\"https://upload.wikimedia.org/wikipedia/en/thumb/9/9f/Twitter_bird_logo_2012.svg/220px-Twitter_bird_logo_2012.svg.png\">"
   ]
  },
  {
   "cell_type": "markdown",
   "metadata": {},
   "source": [
    "**TEAM Members:** \n",
    "\n",
    "    Kate Sincaglia\n",
    "    \n",
    "    Mitchell Sirois\n",
    "    \n",
    "    Bryson Tang\n",
    "    \n",
    "    Jyalu Wu"
   ]
  },
  {
   "cell_type": "markdown",
   "metadata": {},
   "source": [
    "# Problem 1 (20 points): Sampling Twitter Data with either Search or Streaming API about a certain topic"
   ]
  },
  {
   "cell_type": "markdown",
   "metadata": {},
   "source": [
    "* Select a topic that you are interested in, for example, \"WPI\" or \"Lady Gaga\"\n",
    "* Use Twitter API to sample a collection of tweets about this topic. (It would be recommended that the number of tweets should be larger than 200, but smaller than 1 million.\n",
    "* Store the tweets you downloaded into a local file (txt file or json file) "
   ]
  },
  {
   "cell_type": "code",
   "execution_count": 120,
   "metadata": {},
   "outputs": [
    {
     "name": "stdout",
     "output_type": "stream",
     "text": [
      "Length of statuses 100\n",
      "Length of statuses 200\n",
      "Length of statuses 300\n",
      "Length of statuses 400\n",
      "Length of statuses 500\n"
     ]
    }
   ],
   "source": [
    "import twitter\n",
    "#---------------------------------------------\n",
    "# A Function to Login Twitter API\n",
    "def oauth_login():\n",
    "    \n",
    "    CONSUMER_KEY = 'oVek8jmhI4sz8SbKnT1e6UsIh'\n",
    "    CONSUMER_SECRET = '3eGB6ip82K3XowIDEmz9JXIbRc2uFSlHvjPJ8Lmkf3HVIdlmhM'\n",
    "    OAUTH_TOKEN = '571213367-H0r2WfySE7L4vgUJHv4YLW2vZGLa7TEPP7iWsTNu'\n",
    "    OAUTH_TOKEN_SECRET = 'uKcYixkDRaCUvaP2oqH9a9fIaIB9nf4NKz32iqo2t7B7K'\n",
    "    \n",
    "    auth = twitter.oauth.OAuth(OAUTH_TOKEN, OAUTH_TOKEN_SECRET,\n",
    "                               CONSUMER_KEY, CONSUMER_SECRET)\n",
    "    \n",
    "    twitter_api = twitter.Twitter(auth=auth)\n",
    "    return twitter_api\n",
    "\n",
    "twitter_api = oauth_login()\n",
    "\n",
    "#----------------------------------------------\n",
    "\n",
    "import json\n",
    "\n",
    "q = 'outage' #searching for power outages\n",
    "\n",
    "count = 1000 #number of respones per page of search results\n",
    "\n",
    "search_results = twitter_api.search.tweets(q=q, count=count)\n",
    "\n",
    "statuses = search_results['statuses']\n",
    "\n",
    "for _ in range(5):\n",
    "    print(\"Length of statuses\", len(statuses))\n",
    "    try:\n",
    "        next_results = search_results['search_metadata']['next_results']\n",
    "    except KeyError: # No more results when next_results doesn't exist\n",
    "        break\n",
    "        \n",
    "    # Create a dictionary from next_results, which has the following form:\n",
    "    # ?max_id=313519052523986943&q=NCAA&include_entities=1\n",
    "    kwargs = dict([ kv.split('=') for kv in next_results[1:].split(\"&\") ])\n",
    "    \n",
    "    search_results = twitter_api.search.tweets(**kwargs)\n",
    "    statuses += search_results['statuses']\n",
    "\n",
    "# Store the collected tweets\n",
    "collected_tweets = json.dumps(statuses, indent=4)\n",
    "\n"
   ]
  },
  {
   "cell_type": "markdown",
   "metadata": {},
   "source": [
    "### Report some statistics about the tweets you collected \n",
    "\n",
    "* Our topic of interest was on power outages and we collected 5000 tweets"
   ]
  },
  {
   "cell_type": "markdown",
   "metadata": {},
   "source": [
    "# Problem 2 (20 points): Analyzing Tweets and Tweet Entities with Frequency Analysis\n",
    "\n",
    "**1. Word Count:** \n",
    "* Use the tweets you collected in Problem 1, and compute the frequencies of the words being used in these tweets. \n",
    "* Plot a table of the top 30 words with their counts"
   ]
  },
  {
   "cell_type": "code",
   "execution_count": 77,
   "metadata": {},
   "outputs": [
    {
     "name": "stdout",
     "output_type": "stream",
     "text": [
      "+---------------+-------+\n",
      "| Word          | Count |\n",
      "+---------------+-------+\n",
      "| outage        |   286 |\n",
      "| a             |   202 |\n",
      "| the           |   201 |\n",
      "| in            |   171 |\n",
      "| RT            |   160 |\n",
      "| to            |   145 |\n",
      "| is            |   144 |\n",
      "| and           |   108 |\n",
      "| an            |   103 |\n",
      "| power         |   100 |\n",
      "| for           |    96 |\n",
      "| at            |    87 |\n",
      "| of            |    83 |\n",
      "| on            |    74 |\n",
      "| BAUER         |    74 |\n",
      "| OUTAGE        |    71 |\n",
      "| @CityPowerJhb |    58 |\n",
      "| been          |    57 |\n",
      "| are           |    55 |\n",
      "| Bauer         |    53 |\n",
      "| I             |    51 |\n",
      "| LA            |    51 |\n",
      "| IN            |    50 |\n",
      "| @JustRyCole:  |    45 |\n",
      "| out           |    44 |\n",
      "| you           |    44 |\n",
      "| have          |    43 |\n",
      "| We            |    43 |\n",
      "| will          |    41 |\n",
      "| Outage        |    41 |\n",
      "+---------------+-------+\n"
     ]
    }
   ],
   "source": [
    "#----------------------------------------------\n",
    "# Your code starts here\n",
    "#   Please add comments or text cells in between to explain the general idea of each block of the code.\n",
    "#   Please feel free to add more cells below this cell if necessary\n",
    "\n",
    "import time\n",
    "\n",
    "status_texts = [ status['text'] \n",
    "                 for status in statuses ]\n",
    "\n",
    "screen_names = [ user_mention['screen_name'] \n",
    "                 for status in statuses\n",
    "                     for user_mention in status['entities']['user_mentions'] ]\n",
    "\n",
    "hashtags = [ hashtag['text'] \n",
    "             for status in statuses\n",
    "                 for hashtag in status['entities']['hashtags'] ]\n",
    "\n",
    "# Compute a collection of all words from all tweets\n",
    "words = [ w \n",
    "          for t in status_texts \n",
    "              for w in t.split() ]\n",
    "    \n",
    "      \n",
    "from prettytable import PrettyTable\n",
    "from collections import Counter\n",
    "\n",
    "#creates table of top 30 words and their counts from our collected tweets\n",
    "label, data = ('Word', words)\n",
    "pt = PrettyTable(field_names=[label, 'Count']) \n",
    "c = Counter(data)\n",
    "[ pt.add_row(kv) for kv in c.most_common()[:30] ]\n",
    "pt.align[label], pt.align['Count'] = 'l', 'r' # Set column alignment\n",
    "\n",
    "print(pt)"
   ]
  },
  {
   "cell_type": "markdown",
   "metadata": {},
   "source": [
    "**2. Find the most popular tweets in your collection of tweets**\n",
    "\n",
    "Please plot a table of the top 10 tweets that are the most popular among your collection, i.e., the tweets with the largest number of retweet counts.\n"
   ]
  },
  {
   "cell_type": "code",
   "execution_count": 122,
   "metadata": {},
   "outputs": [
    {
     "name": "stdout",
     "output_type": "stream",
     "text": [
      "+---------------+-------------+------------------------------------------------------------------------+\n",
      "| Retweet Count | Screen Name | Text                                                                   |\n",
      "+---------------+-------------+------------------------------------------------------------------------+\n",
      "| 478           | DaKidGowie  | RT @DaKidGowie: To this day, no one can convince me that the power     |\n",
      "|               |             | outage wasn't the NFL's attempt to kill the Ravens' momentum. 😒       |\n",
      "| 328           | JFriks      | RT @JFriks: So what movie got stocked in while there was power outage? |\n",
      "|               |             | https://t.co/N8nIEmIRWo                                                |\n",
      "| 57            | JustRyCole  | RT @JustRyCole: BAUER OUTAGE IN LA                                     |\n",
      "| 43            | coinbase    | RT @coinbase: On January 29th, https://t.co/0tiBsD1C1r had an outage   |\n",
      "|               |             | and many users experienced errors although https://t.co/vzbVey3JTS     |\n",
      "|               |             | tra…                                                                   |\n",
      "| 26            | dominic_w   | RT @dominic_w: Gonna stop reporting on the endless outages of          |\n",
      "|               |             | centralized Big Tech. Happens too regularly now :/                     |\n",
      "|               |             |                                                                        |\n",
      "|               |             | TLDR; @dfinity will soon…                                              |\n",
      "| 26            | BvuePD      | RT @BvuePD: A Lumen/Centurylink 911 system outage is impacting 8K      |\n",
      "|               |             | customers in Bellevue, Glencourt area. Call 425-577-5599 for emergency |\n",
      "|               |             | se…                                                                    |\n",
      "| 15            | PWCSNews    | RT @PWCSNews: PWCS is experiencing a website outage due to an issue    |\n",
      "|               |             | with our service provider. Crews are working to correct the problem.   |\n",
      "|               |             | On…                                                                    |\n",
      "| 13            | opg         | RT @opg: After a record breaking 3 year run of generating clean        |\n",
      "|               |             | carbon-free power, Unit 1 at Darlington Nuclear is taking a well-      |\n",
      "|               |             | deserved m…                                                            |\n",
      "| 11            | e4end       | RT @e4end: 100% outage in twitter. Let’s see when they will disclose   |\n",
      "|               |             | in news.                                                               |\n",
      "|               |             |                                                                        |\n",
      "|               |             | #مارخورز                                                               |\n",
      "| 11            | PHEDconnect | RT @PHEDconnect: Dear Customer,                                        |\n",
      "|               |             |                                                                        |\n",
      "|               |             | We will carry out a scheduled technical work   in Alpha zone tomorrow, |\n",
      "|               |             | Saturday, February 6, 2021 from 9:0…                                   |\n",
      "+---------------+-------------+------------------------------------------------------------------------+\n"
     ]
    }
   ],
   "source": [
    "#----------------------------------------------\n",
    "# Your code starts here\n",
    "#   Please add comments or text cells in between to explain the general idea of each block of the code.\n",
    "#   Please feel free to add more cells below this cell if necessary\n",
    "\n",
    "\n",
    "retweets = [\n",
    "            # Store out a triple of these three values ...\n",
    "            (status['retweet_count'], \n",
    "             status['retweeted_status']['user']['screen_name'],\n",
    "             status['text']) \n",
    "            \n",
    "            # ... for each status ...\n",
    "            for status in statuses \n",
    "            \n",
    "            # ... so long as the status meets this condition.\n",
    "                if 'retweeted_status' in status\n",
    "           ]\n",
    "\n",
    "# Display each item in a triple in a table\n",
    "\n",
    "pt = PrettyTable(field_names=['Retweet Count', 'Screen Name','Text'])\n",
    "[ pt.add_row(row) for row in sorted(retweets, reverse=True)[:5000] ]\n",
    "pt.max_width['Text'] = 70\n",
    "pt.align= 'l'\n",
    "\n",
    "apt = pt #altered pretty table to remove duplicate tweets without altering original table\n",
    "\n",
    "#cleans the first x rows of the table\n",
    "def new_clean(the_table, x):\n",
    "    for i in range(x):\n",
    "        r = i + 1\n",
    "        t = r + 1\n",
    "        while the_table.get_string(start = i, end = r) == the_table.get_string(start = r, end = t):\n",
    "                the_table.del_row(r)\n",
    "new_clean(apt, 12)\n",
    "print(apt.get_string(start = 0, end = 10))"
   ]
  },
  {
   "cell_type": "markdown",
   "metadata": {},
   "source": [
    "**3. Find the most popular Tweet Entities in your collection of tweets**\n",
    "\n",
    "Please plot a table of the top 10 hashtags, top 10 user mentions that are the most popular in your collection of tweets."
   ]
  },
  {
   "cell_type": "code",
   "execution_count": null,
   "metadata": {},
   "outputs": [],
   "source": [
    "#----------------------------------------------\n",
    "# Your code starts here\n",
    "#   Please add comments or text cells in between to explain the general idea of each block of the code.\n",
    "#   Please feel free to add more cells below this cell if necessary\n"
   ]
  },
  {
   "cell_type": "markdown",
   "metadata": {},
   "source": [
    "# Problem 3 (20 points): Getting \"All\" friends and \"All\" followers of a popular user in twitter\n"
   ]
  },
  {
   "cell_type": "markdown",
   "metadata": {},
   "source": [
    "* choose a popular twitter user who has many followers, such as \"ladygaga\".\n",
    "* Get the list of all friends and all followers of the twitter user.\n",
    "* Plot 20 out of the followers, plot their ID numbers and screen names in a table.\n",
    "* Plot 20 out of the friends (if the user has more than 20 friends), plot their ID numbers and screen names in a table."
   ]
  },
  {
   "cell_type": "code",
   "execution_count": 5,
   "metadata": {},
   "outputs": [],
   "source": [
    "#----------------------------------------------\n",
    "# Your code starts here\n",
    "#   Please add comments or text cells in between to explain the general idea of each block of the code.\n",
    "#   Please feel free to add more cells below this cell if necessary\n",
    "\n"
   ]
  },
  {
   "cell_type": "markdown",
   "metadata": {},
   "source": [
    "* Compute the mutual friends within the two groups, i.e., the users who are in both friend list and follower list, plot their ID numbers and screen names in a table"
   ]
  },
  {
   "cell_type": "code",
   "execution_count": 6,
   "metadata": {},
   "outputs": [],
   "source": [
    "#----------------------------------------------\n",
    "# Your code starts here\n",
    "#   Please add comments or text cells in between to explain the general idea of each block of the code.\n",
    "#   Please feel free to add more cells below this cell if necessary\n"
   ]
  },
  {
   "cell_type": "markdown",
   "metadata": {},
   "source": [
    "*------------------------\n",
    "\n",
    "# Problem 4 (20 points): Business question \n",
    "\n",
    "Run some additional experiments with your data to gain familiarity with the twitter data and twitter API.\n",
    "\n",
    "* Come up with a business question that Twitter data could help answer.\n",
    "* Decribe the business case.\n",
    "* How could Twitter data help a company decide how to spend its resources."
   ]
  },
  {
   "cell_type": "code",
   "execution_count": 9,
   "metadata": {},
   "outputs": [],
   "source": [
    "#----------------------------------------------\n",
    "# Your code starts here\n",
    "#   Please add comments or text cells in between to explain the general idea of each block of the code.\n",
    "#   Please feel free to add more cells below this cell if necessary\n",
    "\n",
    "\n",
    "\n"
   ]
  },
  {
   "cell_type": "markdown",
   "metadata": {},
   "source": [
    "*-----------------\n",
    "# Done\n",
    "\n",
    "All set! \n",
    "\n",
    "** What do you need to submit?**\n",
    "\n",
    "* **Notebook File**: Save this IPython notebook, and find the notebook file in your folder (for example, \"filename.ipynb\"). This is the file you need to submit. Please make sure all the plotted tables and figures are in the notebook. If you used \"ipython notebook --pylab=inline\" to open the notebook, all the figures and tables should have shown up in the notebook.\n",
    "\n",
    "\n",
    "* **PPT Slides**: please prepare PPT slides (for 15 minutes' talk) to present about the case study . We will ask two teams which are randomly selected to present their case studies in class for this case study. \n",
    "\n",
    "Please compress all the files in a zipped file.\n",
    "\n",
    "\n",
    "** How to submit: **\n",
    "\n",
    "        Please submit through email to Prof. Paffenroth (rcpaffenroth@wpi.edu).\n",
    "\n",
    "#### We auto-process the submissions so make sure your subject line is *exactly*:\n",
    "\n",
    "### DS3010 Case Study 1 Team ??\n",
    "\n",
    "#### where ?? is your team number.\n",
    "        \n",
    "** Note: Each team just needs to submits one submission **"
   ]
  },
  {
   "cell_type": "markdown",
   "metadata": {},
   "source": [
    "# Grading Criteria:\n",
    "\n",
    "**Totoal Points: 100**\n",
    "\n",
    "\n",
    "---------------------------------------------------------------------------\n",
    "**Notebook results:**\n",
    "    Points: 80\n",
    "\n",
    "\n",
    "    -----------------------------------\n",
    "    Question 1:\n",
    "    Points: 20\n",
    "    -----------------------------------\n",
    "    \n",
    "    -----------------------------------\n",
    "    Question 2:\n",
    "    Points: 20\n",
    "    -----------------------------------\n",
    "        \n",
    "    -----------------------------------\n",
    "    Question 3:\n",
    "    Points: 20\n",
    "    -----------------------------------\n",
    "  \n",
    "    -----------------------------------\n",
    "    Question 4:  Business question\n",
    "    Points: 20\n",
    "    -----------------------------------\n",
    "        Novelty: 10\n",
    "        Interestingness: 10\n",
    "    -----------------------------------\n",
    "    Come up with a business question and describe how Twitter data and a NoSQL database such as MongoDB call help you anser it.\n",
    "\n",
    "\n",
    "---------------------------------------------------------------------------\n",
    "**Slides (for 10 minutes of presentation): Story-telling**\n",
    "    Points: 20\n",
    "\n",
    "\n",
    "1. Motivation about the data collection, why the topic is interesting to you.\n",
    "    Points: 5 \n",
    "\n",
    "2. Communicating Results (figure/table)\n",
    "    Points: 10 \n",
    "\n",
    "3. Story telling (How all the parts (data, analysis, result) fit together as a story?)\n",
    "    Points: 5 \n",
    "\n",
    "\n"
   ]
  },
  {
   "cell_type": "code",
   "execution_count": null,
   "metadata": {},
   "outputs": [],
   "source": []
  }
 ],
 "metadata": {
  "anaconda-cloud": {},
  "kernel_info": {
   "name": "python3"
  },
  "kernelspec": {
   "display_name": "Python 3",
   "language": "python",
   "name": "python3"
  },
  "language_info": {
   "codemirror_mode": {
    "name": "ipython",
    "version": 3
   },
   "file_extension": ".py",
   "mimetype": "text/x-python",
   "name": "python",
   "nbconvert_exporter": "python",
   "pygments_lexer": "ipython3",
   "version": "3.8.5"
  },
  "nteract": {
   "version": "0.2.0"
  }
 },
 "nbformat": 4,
 "nbformat_minor": 4
}
