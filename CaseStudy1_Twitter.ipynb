{
 "cells": [
  {
   "cell_type": "markdown",
   "metadata": {},
   "source": [
    "# Case Study 1 : Collecting Data from Twitter\n",
    "\n",
    "Due Date: 2/8/2021, **BEFORE the beginning of class at 11:00am**\n",
    "\n",
    "## **NOTE: There are *always* last minute issues submitting the case studies.  DO NOT WAIT UNTIL THE LAST MINUTE!**"
   ]
  },
  {
   "cell_type": "markdown",
   "metadata": {},
   "source": [
    "<img src=\"https://upload.wikimedia.org/wikipedia/en/thumb/9/9f/Twitter_bird_logo_2012.svg/220px-Twitter_bird_logo_2012.svg.png\">"
   ]
  },
  {
   "cell_type": "markdown",
   "metadata": {},
   "source": [
    "**TEAM Members:** Please EDIT this cell and add the names of all the team members in your team\n",
    "\n",
    "    member 1\n",
    "    \n",
    "    member 2\n",
    "    \n",
    "    ..."
   ]
  },
  {
   "cell_type": "markdown",
   "metadata": {},
   "source": [
    "**Suggested Readings:** \n",
    "* Chapter 1 and Chapter 9 of the book \"Mining the Social Web\" can help a lot if you get stuck. \n",
    "* In fact, it is intentional that many of these questions can be answered directly from there (except for question 4)!\n",
    "* The idea is to ease you into the case studies :-)\n",
    "\n",
    "**Don't forget!**\n",
    "* You will need to install the python-twitter library to access the Twitter API\n",
    " * pip install twitter\n",
    "\n",
    "\n",
    "** NOTE **\n",
    "* **Please don't forget to save the notebook frequently when working in IPython Notebook, otherwise the changes you made can be lost**."
   ]
  },
  {
   "cell_type": "markdown",
   "metadata": {},
   "source": [
    "# Problem 1 (20 points): Sampling Twitter Data with either Search or Streaming API about a certain topic"
   ]
  },
  {
   "cell_type": "markdown",
   "metadata": {},
   "source": [
    "* Select a topic that you are interested in, for example, \"WPI\" or \"Lady Gaga\"\n",
    "* Use Twitter API to sample a collection of tweets about this topic. (It would be recommended that the number of tweets should be larger than 200, but smaller than 1 million.\n",
    "* Store the tweets you downloaded into a local file (txt file or json file) "
   ]
  },
  {
   "cell_type": "code",
   "execution_count": 4,
   "metadata": {},
   "outputs": [],
   "source": [
    "import twitter\n",
    "#---------------------------------------------\n",
    "# Define a Function to Login Twitter API\n",
    "def oauth_login():\n",
    "    # Prof. Paffenroth has a developer account for the class.  He will provide the Twitter access tokens for\n",
    "    # each team\n",
    "    # See https://developer.twitter.com/docs/auth/oauth for more information \n",
    "    # on Twitter's OAuth implementation.\n",
    "    \n",
    "    CONSUMER_KEY = 'oVek8jmhI4sz8SbKnT1e6UsIh'\n",
    "    CONSUMER_SECRET ='3eGB6ip82K3XowIDEmz9JXIbRc2uFSlHvjPJ8Lmkf3HVIdlmhM'\n",
    "    OAUTH_TOKEN = '571213367-H0r2WfySE7L4vgUJHv4YLW2vZGLa7TEPP7iWsTNu'\n",
    "    OAUTH_TOKEN_SECRET = 'uKcYixkDRaCUvaP2oqH9a9fIaIB9nf4NKz32iqo2t7B7K'\n",
    "\n",
    "    \n",
    "    auth = twitter.oauth.OAuth(OAUTH_TOKEN, OAUTH_TOKEN_SECRET,\n",
    "                               CONSUMER_KEY, CONSUMER_SECRET)\n",
    "    \n",
    "    twitter_api = twitter.Twitter(auth=auth)\n",
    "    return twitter_api\n",
    "\n",
    "twitter_api = oauth_login()\n",
    "\n",
    "#----------------------------------------------\n",
    "# Your code starts here\n",
    "#   Please add comments or text cells in between to explain the general idea of each block of the code.\n",
    "#   Please feel free to add more cells below this cell if necessary\n"
   ]
  },
  {
   "cell_type": "markdown",
   "metadata": {},
   "source": [
    "### Report some statistics about the tweets you collected \n",
    "\n",
    "* The topic of interest: < INSERT YOUR TOPIC HERE>\n",
    "\n",
    "\n",
    "* The total number of tweets collected:  < INSERT THE NUMBER HERE>"
   ]
  },
  {
   "cell_type": "markdown",
   "metadata": {},
   "source": [
    "*-----------------------"
   ]
  },
  {
   "cell_type": "markdown",
   "metadata": {},
   "source": [
    "# Problem 2 (20 points): Analyzing Tweets and Tweet Entities with Frequency Analysis\n",
    "\n",
    "**1. Word Count:** \n",
    "* Use the tweets you collected in Problem 1, and compute the frequencies of the words being used in these tweets. \n",
    "* Plot a table of the top 30 words with their counts"
   ]
  },
  {
   "cell_type": "code",
   "execution_count": 2,
   "metadata": {},
   "outputs": [],
   "source": [
    "#----------------------------------------------\n",
    "# Your code starts here\n",
    "#   Please add comments or text cells in between to explain the general idea of each block of the code.\n",
    "#   Please feel free to add more cells below this cell if necessary\n"
   ]
  },
  {
   "cell_type": "markdown",
   "metadata": {},
   "source": [
    "**2. Find the most popular tweets in your collection of tweets**\n",
    "\n",
    "Please plot a table of the top 10 tweets that are the most popular among your collection, i.e., the tweets with the largest number of retweet counts.\n"
   ]
  },
  {
   "cell_type": "code",
   "execution_count": 3,
   "metadata": {},
   "outputs": [],
   "source": [
    "#----------------------------------------------\n",
    "# Your code starts here\n",
    "#   Please add comments or text cells in between to explain the general idea of each block of the code.\n",
    "#   Please feel free to add more cells below this cell if necessary\n"
   ]
  },
  {
   "cell_type": "markdown",
   "metadata": {},
   "source": [
    "**3. Find the most popular Tweet Entities in your collection of tweets**\n",
    "\n",
    "Please plot a table of the top 10 hashtags, top 10 user mentions that are the most popular in your collection of tweets."
   ]
  },
  {
   "cell_type": "code",
   "execution_count": 4,
   "metadata": {},
   "outputs": [],
   "source": [
    "#----------------------------------------------\n",
    "# Your code starts here\n",
    "#   Please add comments or text cells in between to explain the general idea of each block of the code.\n",
    "#   Please feel free to add more cells below this cell if necessary\n"
   ]
  },
  {
   "cell_type": "markdown",
   "metadata": {},
   "source": [
    "# Problem 3 (20 points): Getting \"All\" friends and \"All\" followers of a popular user in twitter\n"
   ]
  },
  {
   "cell_type": "markdown",
   "metadata": {},
   "source": [
    "* choose a popular twitter user who has many followers, such as \"ladygaga\".\n",
    "* Get the list of all friends and all followers of the twitter user.\n",
    "* Plot 20 out of the followers, plot their ID numbers and screen names in a table.\n",
    "* Plot 20 out of the friends (if the user has more than 20 friends), plot their ID numbers and screen names in a table."
   ]
  },
  {
   "cell_type": "code",
   "execution_count": 87,
   "metadata": {},
   "outputs": [],
   "source": [
    "#----------------------------------------------\n",
    "# Your code starts here\n",
    "#   Please add comments or text cells in between to explain the general idea of each block of the code.\n",
    "#   Please feel free to add more cells below this cell if necessary\n",
    "\n",
    "import time\n",
    "from prettytable import PrettyTable\n",
    "\n",
    "# Get followers\n",
    "friend_cursor = -1\n",
    "follower_cursor = -1\n",
    "\n",
    "user = \"bryt9\"\n",
    "\n",
    "followers = []\n",
    "friends = []\n",
    "while friend_cursor != 0 and follower_cursor != 0:\n",
    "    try:\n",
    "        if follower_cursor != 0:\n",
    "            res_follower = twitter_api.followers.list(screen_name=user, cursor=follower_cursor, count=200)\n",
    "            followers += [{\"screen_name\": u[\"screen_name\"], \"id\": u[\"id\"]}for u in res_follower['users']]\n",
    "            follower_cursor = res_follower[\"next_cursor\"]\n",
    "            \n",
    "        if friend_cursor != 0:\n",
    "            res_friends = twitter_api.friends.list(screen_name=user, cursor=friend_cursor, count=200)\n",
    "            friends += [{\"screen_name\": u[\"screen_name\"], \"id\": u[\"id\"]}for u in res_friends['users']]\n",
    "            friend_cursor = res_friends[\"next_cursor\"]\n",
    "    except twitter.api.TwitterHTTPError:\n",
    "        print(\"Waiting...\")\n",
    "        time.sleep(900)\n",
    "    \n",
    "    \n"
   ]
  },
  {
   "cell_type": "code",
   "execution_count": 94,
   "metadata": {},
   "outputs": [
    {
     "data": {
      "text/plain": [
       "{'screen_name': 'tedlieu', 'id': 21059255}"
      ]
     },
     "execution_count": 94,
     "metadata": {},
     "output_type": "execute_result"
    }
   ],
   "source": [
    "friends[0]"
   ]
  },
  {
   "cell_type": "code",
   "execution_count": 115,
   "metadata": {},
   "outputs": [],
   "source": [
    "def generate_user_table(data, title, length=20):\n",
    "    table = PrettyTable([\"Screen Name\", \"Id\"])\n",
    "    table.title = title\n",
    "    \n",
    "    if len(data) < length:\n",
    "        length = len(data)\n",
    "        \n",
    "    for i in range(length):\n",
    "        row = data[i]\n",
    "        table.add_row([row[\"screen_name\"], row[\"id\"]])\n",
    "    \n",
    "    return table"
   ]
  },
  {
   "cell_type": "code",
   "execution_count": 118,
   "metadata": {},
   "outputs": [
    {
     "name": "stdout",
     "output_type": "stream",
     "text": [
      "+---------------------------------------+\n",
      "|                Friends                |\n",
      "+-----------------+---------------------+\n",
      "|   Screen Name   |          Id         |\n",
      "+-----------------+---------------------+\n",
      "|     tedlieu     |       21059255      |\n",
      "|      wsbmod     | 1282418324228337665 |\n",
      "|  OldMemeArchive | 1349856571988258826 |\n",
      "|      POTUS      | 1349149096909668363 |\n",
      "|    nookipedia   |      213478688      |\n",
      "|     Pokemon     |       96879107      |\n",
      "|   staceyabrams  |      216065430      |\n",
      "|     jschlatt    |      4694011844     |\n",
      "| ProgressBar202_ |      4685749051     |\n",
      "|  LeftAccidental | 1303873858936737793 |\n",
      "|   mcblockdaily  | 1324477660182007810 |\n",
      "|   StrangestMp4  | 1194413925569159169 |\n",
      "|  CallMeCarsonYT |      2349536690     |\n",
      "|  MoistCr1TiKaL  |      559229566      |\n",
      "|    jacksfilms   |       9989862       |\n",
      "|    robber0540   |      3086280070     |\n",
      "|   hasanthehun   |      326756275      |\n",
      "|   KamalaHarris  |       30354991      |\n",
      "|     JoeBiden    |        939091       |\n",
      "|    hankgreen    |       61592079      |\n",
      "+-----------------+---------------------+\n",
      "+------------------------------+\n",
      "|          Followers           |\n",
      "+-----------------+------------+\n",
      "|   Screen Name   |     Id     |\n",
      "+-----------------+------------+\n",
      "|  ashleybaldw1n  | 3133724330 |\n",
      "|  srastevensb201 | 885519948  |\n",
      "|  ABIGAILOKYERE9 | 3432529809 |\n",
      "|   CKennedy046   | 1541884219 |\n",
      "|   Alexfang1023  | 2233688410 |\n",
      "|     ralphpig    | 860254500  |\n",
      "|   Andrew02445   | 1457343038 |\n",
      "| screamingdonuts | 1319192641 |\n",
      "|     tang_meg    |  11726682  |\n",
      "|     mmbtang     |  11699752  |\n",
      "+-----------------+------------+\n"
     ]
    }
   ],
   "source": [
    "from prettytable import PrettyTable\n",
    "\n",
    "friends_table  = generate_user_table(friends, \"Friends\")\n",
    "followers_table  = generate_user_table(followers, \"Followers\")\n",
    "\n",
    "print(friends_table)\n",
    "print(followers_table)"
   ]
  },
  {
   "cell_type": "markdown",
   "metadata": {},
   "source": [
    "* Compute the mutual friends within the two groups, i.e., the users who are in both friend list and follower list, plot their ID numbers and screen names in a table"
   ]
  },
  {
   "cell_type": "code",
   "execution_count": 122,
   "metadata": {},
   "outputs": [
    {
     "name": "stdout",
     "output_type": "stream",
     "text": [
      "+-----------------------------+\n",
      "|            Mutual           |\n",
      "+----------------+------------+\n",
      "|  Screen Name   |     Id     |\n",
      "+----------------+------------+\n",
      "| ashleybaldw1n  | 3133724330 |\n",
      "| srastevensb201 | 885519948  |\n",
      "|    ralphpig    | 860254500  |\n",
      "|    tang_meg    |  11726682  |\n",
      "|    mmbtang     |  11699752  |\n",
      "+----------------+------------+\n"
     ]
    }
   ],
   "source": [
    "#----------------------------------------------\n",
    "# Your code starts here\n",
    "#   Please add comments or text cells in between to explain the general idea of each block of the code.\n",
    "#   Please feel free to add more cells below this cell if necessary\n",
    "\n",
    "mutual = []\n",
    "for u in followers:\n",
    "    for r in friends:\n",
    "        if u['id'] == r[\"id\"]:\n",
    "            mutual.append(u)\n",
    "            \n",
    "mutual_table  = generate_user_table(mutual, \"Mutual\")\n",
    "\n",
    "print(mutual_table)\n",
    "\n"
   ]
  },
  {
   "cell_type": "markdown",
   "metadata": {},
   "source": [
    "*------------------------\n",
    "\n",
    "# Problem 4 (20 points): Business question \n",
    "\n",
    "Run some additional experiments with your data to gain familiarity with the twitter data and twitter API.\n",
    "\n",
    "* Come up with a business question that Twitter data could help answer.\n",
    "* Decribe the business case.\n",
    "* How could Twitter data help a company decide how to spend its resources."
   ]
  },
  {
   "cell_type": "code",
   "execution_count": 9,
   "metadata": {},
   "outputs": [],
   "source": [
    "#----------------------------------------------\n",
    "# Your code starts here\n",
    "#   Please add comments or text cells in between to explain the general idea of each block of the code.\n",
    "#   Please feel free to add more cells below this cell if necessary\n",
    "\n",
    "\n",
    "\n"
   ]
  },
  {
   "cell_type": "markdown",
   "metadata": {},
   "source": [
    "*-----------------\n",
    "# Done\n",
    "\n",
    "All set! \n",
    "\n",
    "** What do you need to submit?**\n",
    "\n",
    "* **Notebook File**: Save this IPython notebook, and find the notebook file in your folder (for example, \"filename.ipynb\"). This is the file you need to submit. Please make sure all the plotted tables and figures are in the notebook. If you used \"ipython notebook --pylab=inline\" to open the notebook, all the figures and tables should have shown up in the notebook.\n",
    "\n",
    "\n",
    "* **PPT Slides**: please prepare PPT slides (for 15 minutes' talk) to present about the case study . We will ask two teams which are randomly selected to present their case studies in class for this case study. \n",
    "\n",
    "Please compress all the files in a zipped file.\n",
    "\n",
    "\n",
    "** How to submit: **\n",
    "\n",
    "        Please submit through email to Prof. Paffenroth (rcpaffenroth@wpi.edu).\n",
    "\n",
    "#### We auto-process the submissions so make sure your subject line is *exactly*:\n",
    "\n",
    "### DS3010 Case Study 1 Team ??\n",
    "\n",
    "#### where ?? is your team number.\n",
    "        \n",
    "** Note: Each team just needs to submits one submission **"
   ]
  },
  {
   "cell_type": "markdown",
   "metadata": {},
   "source": [
    "# Grading Criteria:\n",
    "\n",
    "**Totoal Points: 100**\n",
    "\n",
    "\n",
    "---------------------------------------------------------------------------\n",
    "**Notebook results:**\n",
    "    Points: 80\n",
    "\n",
    "\n",
    "    -----------------------------------\n",
    "    Question 1:\n",
    "    Points: 20\n",
    "    -----------------------------------\n",
    "    \n",
    "    -----------------------------------\n",
    "    Question 2:\n",
    "    Points: 20\n",
    "    -----------------------------------\n",
    "        \n",
    "    -----------------------------------\n",
    "    Question 3:\n",
    "    Points: 20\n",
    "    -----------------------------------\n",
    "  \n",
    "    -----------------------------------\n",
    "    Question 4:  Business question\n",
    "    Points: 20\n",
    "    -----------------------------------\n",
    "        Novelty: 10\n",
    "        Interestingness: 10\n",
    "    -----------------------------------\n",
    "    Come up with a business question and describe how Twitter data and a NoSQL database such as MongoDB call help you anser it.\n",
    "\n",
    "\n",
    "---------------------------------------------------------------------------\n",
    "**Slides (for 10 minutes of presentation): Story-telling**\n",
    "    Points: 20\n",
    "\n",
    "\n",
    "1. Motivation about the data collection, why the topic is interesting to you.\n",
    "    Points: 5 \n",
    "\n",
    "2. Communicating Results (figure/table)\n",
    "    Points: 10 \n",
    "\n",
    "3. Story telling (How all the parts (data, analysis, result) fit together as a story?)\n",
    "    Points: 5 \n",
    "\n",
    "\n"
   ]
  },
  {
   "cell_type": "code",
   "execution_count": null,
   "metadata": {},
   "outputs": [],
   "source": []
  }
 ],
 "metadata": {
  "anaconda-cloud": {},
  "kernel_info": {
   "name": "python3"
  },
  "kernelspec": {
   "display_name": "Python 3",
   "language": "python",
   "name": "python3"
  },
  "language_info": {
   "codemirror_mode": {
    "name": "ipython",
    "version": 3
   },
   "file_extension": ".py",
   "mimetype": "text/x-python",
   "name": "python",
   "nbconvert_exporter": "python",
   "pygments_lexer": "ipython3",
   "version": "3.8.5"
  },
  "nteract": {
   "version": "0.2.0"
  }
 },
 "nbformat": 4,
 "nbformat_minor": 4
}
