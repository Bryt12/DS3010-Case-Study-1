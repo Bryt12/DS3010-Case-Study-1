{
 "cells": [
  {
   "cell_type": "markdown",
   "metadata": {},
   "source": [
    "# Case Study 1 : Collecting Data from Twitter\n",
    "\n",
    "Due Date: 2/8/2021, **BEFORE the beginning of class at 11:00am**\n",
    "\n",
    "## **NOTE: There are *always* last minute issues submitting the case studies.  DO NOT WAIT UNTIL THE LAST MINUTE!**"
   ]
  },
  {
   "cell_type": "markdown",
   "metadata": {},
   "source": [
    "<img src=\"https://upload.wikimedia.org/wikipedia/en/thumb/9/9f/Twitter_bird_logo_2012.svg/220px-Twitter_bird_logo_2012.svg.png\">"
   ]
  },
  {
   "cell_type": "markdown",
   "metadata": {},
   "source": [
    "**TEAM Members:** Please EDIT this cell and add the names of all the team members in your team\n",
    "\n",
    "    member 1\n",
    "    \n",
    "    member 2\n",
    "    \n",
    "    ..."
   ]
  },
  {
   "cell_type": "markdown",
   "metadata": {},
   "source": [
    "**Suggested Readings:** \n",
    "* Chapter 1 and Chapter 9 of the book \"Mining the Social Web\" can help a lot if you get stuck. \n",
    "* In fact, it is intentional that many of these questions can be answered directly from there (except for question 4)!\n",
    "* The idea is to ease you into the case studies :-)\n",
    "\n",
    "**Don't forget!**\n",
    "* You will need to install the python-twitter library to access the Twitter API\n",
    " * pip install twitter\n",
    "\n",
    "\n",
    "** NOTE **\n",
    "* **Please don't forget to save the notebook frequently when working in IPython Notebook, otherwise the changes you made can be lost**."
   ]
  },
  {
   "cell_type": "markdown",
   "metadata": {},
   "source": [
    "# Problem 1 (20 points): Sampling Twitter Data with either Search or Streaming API about a certain topic"
   ]
  },
  {
   "cell_type": "markdown",
   "metadata": {},
   "source": [
    "* Select a topic that you are interested in, for example, \"WPI\" or \"Lady Gaga\"\n",
    "* Use Twitter API to sample a collection of tweets about this topic. (It would be recommended that the number of tweets should be larger than 200, but smaller than 1 million.\n",
    "* Store the tweets you downloaded into a local file (txt file or json file) "
   ]
  },
  {
   "cell_type": "code",
   "execution_count": null,
   "metadata": {},
   "outputs": [],
   "source": [
    "import twitter\n",
    "import json\n",
    "from collections import Counter\n",
    "from prettytable import PrettyTable"
   ]
  },
  {
   "cell_type": "code",
   "execution_count": null,
   "metadata": {},
   "outputs": [],
   "source": [
    "#---------------------------------------------\n",
    "# Define a Function to Login Twitter API\n",
    "def oauth_login():\n",
    "    # Prof. Paffenroth has a developer account for the class.  He will provide the Twitter access tokens for\n",
    "    # each team\n",
    "    # See https://developer.twitter.com/docs/auth/oauth for more information \n",
    "    # on Twitter's OAuth implementation.\n",
    "    \n",
    "    CONSUMER_KEY = 'oVek8jmhI4sz8SbKnT1e6UsIh'\n",
    "    CONSUMER_SECRET ='3eGB6ip82K3XowIDEmz9JXIbRc2uFSlHvjPJ8Lmkf3HVIdlmhM'\n",
    "    OAUTH_TOKEN = '571213367-H0r2WfySE7L4vgUJHv4YLW2vZGLa7TEPP7iWsTNu'\n",
    "    OAUTH_TOKEN_SECRET = 'uKcYixkDRaCUvaP2oqH9a9fIaIB9nf4NKz32iqo2t7B7K'\n",
    "\n",
    "    \n",
    "    auth = twitter.oauth.OAuth(OAUTH_TOKEN, OAUTH_TOKEN_SECRET,\n",
    "                               CONSUMER_KEY, CONSUMER_SECRET)\n",
    "    \n",
    "    twitter_api = twitter.Twitter(auth=auth)\n",
    "    return twitter_api\n",
    "\n",
    "twitter_api = oauth_login()\n",
    "\n",
    "#----------------------------------------------\n",
    "# Your code starts here\n",
    "#   Please add comments or text cells in between to explain the general idea of each block of the code.\n",
    "#   Please feel free to add more cells below this cell if necessary\n",
    "\n",
    "q = 'outage'\n",
    "\n",
    "count = 100\n",
    "\n",
    "# Import unquote to prevent URL encoding errors in next_results\n",
    "from urllib.parse import unquote\n",
    "\n",
    "search_results = twitter_api.search.tweets(q=q, count=count)\n",
    "\n",
    "statuses = search_results['statuses']\n",
    "\n",
    "for _ in range(5): #takes count 5 times, 100*5 = 500\n",
    "    print('Length of statuses', len(statuses))\n",
    "    try:\n",
    "        next_results = search_results['search_metadata']['next_results']\n",
    "    except KeyError as e: # No more results when next_results doesn't exist\n",
    "        break\n",
    "\n",
    "    # Create a dictionary from next_results, which has the following form:\n",
    "    kwargs = dict([ kv.split('=') for kv in unquote(next_results[1:]).split(\"&\") ])\n",
    "\n",
    "    search_results = twitter_api.search.tweets(**kwargs)\n",
    "    statuses += search_results['statuses']\n",
    "\n",
    "# Show one sample search result by slicing the list...\n",
    "print(json.dumps(statuses[0], indent=1)) \n"
   ]
  },
  {
   "cell_type": "markdown",
   "metadata": {},
   "source": [
    "### Report some statistics about the tweets you collected \n",
    "\n",
    "* The topic of interest: < INSERT YOUR TOPIC HERE>\n",
    "\n",
    "\n",
    "* The total number of tweets collected:  < INSERT THE NUMBER HERE>"
   ]
  },
  {
   "cell_type": "markdown",
   "metadata": {},
   "source": [
    "*-----------------------"
   ]
  },
  {
   "cell_type": "markdown",
   "metadata": {},
   "source": [
    "# Problem 2 (20 points): Analyzing Tweets and Tweet Entities with Frequency Analysis\n",
    "\n",
    "**1. Word Count:** \n",
    "* Use the tweets you collected in Problem 1, and compute the frequencies of the words being used in these tweets. \n",
    "* Plot a table of the top 30 words with their counts"
   ]
  },
  {
   "cell_type": "code",
   "execution_count": null,
   "metadata": {
    "scrolled": true
   },
   "outputs": [],
   "source": [
    "#----------------------------------------------\n",
    "# Your code starts here\n",
    "#   Please add comments or text cells in between to explain the general idea of each block of the code.\n",
    "#   Please feel free to add more cells below this cell if necessary"
   ]
  },
  {
   "cell_type": "markdown",
   "metadata": {},
   "source": [
    "**2. Find the most popular tweets in your collection of tweets**\n",
    "\n",
    "Please plot a table of the top 10 tweets that are the most popular among your collection, i.e., the tweets with the largest number of retweet counts.\n"
   ]
  },
  {
   "cell_type": "code",
   "execution_count": null,
   "metadata": {},
   "outputs": [],
   "source": [
    "#----------------------------------------------\n",
    "# Your code starts here\n",
    "#   Please add comments or text cells in between to explain the general idea of each block of the code.\n",
    "#   Please feel free to add more cells below this cell if necessary\n"
   ]
  },
  {
   "cell_type": "markdown",
   "metadata": {},
   "source": [
    "**3. Find the most popular Tweet Entities in your collection of tweets**\n",
    "\n",
    "Please plot a table of the top 10 hashtags, top 10 user mentions that are the most popular in your collection of tweets."
   ]
  },
  {
   "cell_type": "code",
   "execution_count": null,
   "metadata": {},
   "outputs": [],
   "source": [
    "#----------------------------------------------\n",
    "# Your code starts here\n",
    "#   Please add comments or text cells in between to explain the general idea of each block of the code.\n",
    "#   Please feel free to add more cells below this cell if necessary\n",
    "#Katie/Bryson\n",
    "\n",
    "#gather up all of the mentioned users and hashtags\n",
    "\n",
    "hashtags = [ hashtag['text']\n",
    "             for status in statuses\n",
    "                 for hashtag in status['entities']['hashtags'] ]\n",
    "\n",
    "mentioned_user = [user_mention['screen_name']\n",
    "                 for status in statuses\n",
    "                     for user_mention in status['entities']['user_mentions']] #this collects all user mentions\n",
    "\n",
    "#count how many times each hashtag is used and user is mentioned\n",
    "\n",
    "for item in [hashtags, mentioned_user]:\n",
    "    c = Counter(item)\n",
    "    print(c.most_common()[:10]) # top 10\n",
    "    print()\n",
    "    \n",
    "#format the data into a pretty table\n",
    "\n",
    "for label, data in (('Hashtags', hashtags),\n",
    "                    ('Mentioned Users', mentioned_user)):\n",
    "    pt = PrettyTable(field_names=[label, 'Count'])\n",
    "    c = Counter(data)\n",
    "    [ pt.add_row(kv) for kv in c.most_common()[:10] ]\n",
    "    pt.align[label], pt.align['Count'] = 'l', 'r' # Set column alignment\n",
    "    print(pt)"
   ]
  },
  {
   "cell_type": "markdown",
   "metadata": {},
   "source": [
    "# Problem 3 (20 points): Getting \"All\" friends and \"All\" followers of a popular user in twitter\n"
   ]
  },
  {
   "cell_type": "markdown",
   "metadata": {},
   "source": [
    "* choose a popular twitter user who has many followers, such as \"ladygaga\".\n",
    "* Get the list of all friends and all followers of the twitter user.\n",
    "* Plot 20 out of the followers, plot their ID numbers and screen names in a table.\n",
    "* Plot 20 out of the friends (if the user has more than 20 friends), plot their ID numbers and screen names in a table."
   ]
  },
  {
   "cell_type": "code",
   "execution_count": 341,
   "metadata": {},
   "outputs": [],
   "source": [
    "#----------------------------------------------\n",
    "# Your code starts here\n",
    "#   Please add comments or text cells in between to explain the general idea of each block of the code.\n",
    "#   Please feel free to add more cells below this cell if necessary\n",
    "\n",
    "import time\n",
    "from prettytable import PrettyTable\n",
    "\n",
    "# Get followers\n",
    "friend_cursor = -1\n",
    "follower_cursor = -1\n",
    "\n",
    "user = \"TweetWorcester\"\n",
    "\n",
    "number_of_users_to_collect = 3000\n",
    "\n",
    "followers = []\n",
    "friends = []\n",
    "while number_of_users_to_collect != 0:\n",
    "    try:\n",
    "        count = 200\n",
    "        if number_of_users_to_collect < 200:\n",
    "            count = number_of_users_to_collect\n",
    "        \n",
    "        if follower_cursor != 0:\n",
    "            res_follower = twitter_api.followers.list(screen_name=user, \n",
    "                                                      cursor=follower_cursor, \n",
    "                                                      count=count)\n",
    "            \n",
    "            followers += [{\"screen_name\": u[\"screen_name\"], \"id\": u[\"id\"]} for u in res_follower['users']]\n",
    "            follower_cursor = res_follower[\"next_cursor\"]\n",
    "                        \n",
    "        if friend_cursor != 0:            \n",
    "            res_friends = twitter_api.friends.list(screen_name=user, \n",
    "                                                   cursor=friend_cursor, \n",
    "                                                   count=count)\n",
    "            \n",
    "            friends += [{\"screen_name\": u[\"screen_name\"], \"id\": u[\"id\"]}for u in res_friends['users']]\n",
    "            friend_cursor = res_friends[\"next_cursor\"]\n",
    "        \n",
    "        searches += 1\n",
    "        number_of_users_to_collect -= count\n",
    "    except twitter.api.TwitterHTTPError:\n",
    "        rates = twitter_api.application.rate_limit_status()\n",
    "        \n",
    "        time_left = rates[\"resources\"][\"followers\"][\"/followers/list\"][\"reset\"] - time.time()\n",
    "        print(\"Waiting \" + str(time_left) + \" seconds\")\n",
    "        time.sleep(time_left + 2)\n",
    "        print(\"Done waiting\")\n",
    "    \n"
   ]
  },
  {
   "cell_type": "code",
   "execution_count": 342,
   "metadata": {},
   "outputs": [],
   "source": [
    "def generate_user_table(data, title, length=20):\n",
    "    table = PrettyTable([\"Screen Name\", \"Id\"])\n",
    "    table.title = title\n",
    "    \n",
    "    if len(data) < length:\n",
    "        length = len(data)\n",
    "        \n",
    "    for i in range(length):\n",
    "        row = data[i]\n",
    "        table.add_row([row[\"screen_name\"], row[\"id\"]])\n",
    "    \n",
    "    return table"
   ]
  },
  {
   "cell_type": "code",
   "execution_count": 343,
   "metadata": {},
   "outputs": [
    {
     "name": "stdout",
     "output_type": "stream",
     "text": [
      "+---------------------------------------+\n",
      "|                Friends                |\n",
      "+-----------------+---------------------+\n",
      "|   Screen Name   |          Id         |\n",
      "+-----------------+---------------------+\n",
      "|   UMassMedCWM   |      183651111      |\n",
      "|     JoeBiden    |        939091       |\n",
      "|   acrawfordtv   |      198517622      |\n",
      "|    JPJacobs22   |      2427321012     |\n",
      "|     JB_Leary    | 1111629896231596040 |\n",
      "|    pathare12    |      966554984      |\n",
      "|  EricDicksonCEO | 1044599419264552960 |\n",
      "|   AArriagaVet   |      484199294      |\n",
      "|   508worcester  |      2995752323     |\n",
      "|  MichaelHirsh4  | 1059098450556608513 |\n",
      "|      CDCgov     |      146569971      |\n",
      "|  ClanceyForWPS  | 1094275745457848320 |\n",
      "|      WooSox     |      375064050      |\n",
      "|   Wahlburgers   |      364345806      |\n",
      "| WahlTruckBoston | 1012041292044554246 |\n",
      "|  ErinKeatingTV  | 1156018737436401665 |\n",
      "|  BostonMagazine |       14420767      |\n",
      "|    TheWoohaha   |  935924457964736514 |\n",
      "|     MassDOER    |       68696722      |\n",
      "|   EEASecretary  | 1126915830543990784 |\n",
      "+-----------------+---------------------+\n",
      "+---------------------------------------+\n",
      "|               Followers               |\n",
      "+-----------------+---------------------+\n",
      "|   Screen Name   |          Id         |\n",
      "+-----------------+---------------------+\n",
      "| Lakshmi34968975 | 1343731538307911680 |\n",
      "|     rickw137    |      284844712      |\n",
      "| HollyJe79082807 | 1357854404238573568 |\n",
      "|    TimDaTiger   |       25623578      |\n",
      "|    _petiguana   | 1354869707728420868 |\n",
      "|     jomobono    |       11410272      |\n",
      "|   Jason_Riches  |      203320655      |\n",
      "|     KBVuong1    |      414222288      |\n",
      "|  nikkiblair617  |      2730724654     |\n",
      "|   Mike46829110  | 1354562269200474119 |\n",
      "|  MhofaloFreddy  |      3389979891     |\n",
      "| jaredgermaine23 |      889904316      |\n",
      "|   marylamb3393  |      262793319      |\n",
      "|   PeterBlunt98  |      1340863682     |\n",
      "|  itsveronica___ |      484338090      |\n",
      "|  lawyer_stories |  970517500717948928 |\n",
      "|    Pennymutt1   | 1130147465926254594 |\n",
      "|  erinmaureen14  |      257286101      |\n",
      "|    Barnbella1   | 1348687061411389446 |\n",
      "|    ms_dennehy   | 1356725259836289040 |\n",
      "+-----------------+---------------------+\n"
     ]
    }
   ],
   "source": [
    "from prettytable import PrettyTable\n",
    "\n",
    "friends_table  = generate_user_table(friends, \"Friends\")\n",
    "followers_table  = generate_user_table(followers, \"Followers\")\n",
    "\n",
    "print(friends_table)\n",
    "print(followers_table)"
   ]
  },
  {
   "cell_type": "markdown",
   "metadata": {},
   "source": [
    "* Compute the mutual friends within the two groups, i.e., the users who are in both friend list and follower list, plot their ID numbers and screen names in a table"
   ]
  },
  {
   "cell_type": "code",
   "execution_count": 344,
   "metadata": {},
   "outputs": [
    {
     "name": "stdout",
     "output_type": "stream",
     "text": [
      "+-------------------------+\n",
      "|          Mutual         |\n",
      "+-------------+-----------+\n",
      "| Screen Name |     Id    |\n",
      "+-------------+-----------+\n",
      "| acrawfordtv | 198517622 |\n",
      "+-------------+-----------+\n"
     ]
    }
   ],
   "source": [
    "#----------------------------------------------\n",
    "# Your code starts here\n",
    "#   Please add comments or text cells in between to explain the general idea of each block of the code.\n",
    "#   Please feel free to add more cells below this cell if necessary\n",
    "\n",
    "mutual = []\n",
    "for u in followers:\n",
    "    for r in friends:\n",
    "        if u['id'] == r[\"id\"]:\n",
    "            mutual.append(u)\n",
    "            \n",
    "mutual_table  = generate_user_table(mutual, \"Mutual\")\n",
    "\n",
    "print(mutual_table)\n",
    "\n"
   ]
  },
  {
   "cell_type": "markdown",
   "metadata": {},
   "source": [
    "*------------------------\n",
    "\n",
    "# Problem 4 (20 points): Business question \n",
    "\n",
    "Run some additional experiments with your data to gain familiarity with the twitter data and twitter API.\n",
    "\n",
    "* Come up with a business question that Twitter data could help answer.\n",
    "* Decribe the business case.\n",
    "* How could Twitter data help a company decide how to spend its resources."
   ]
  },
  {
   "cell_type": "code",
   "execution_count": 316,
   "metadata": {},
   "outputs": [
    {
     "name": "stdout",
     "output_type": "stream",
     "text": [
      "Waiting 707.7733271121979 seconds\n"
     ]
    }
   ],
   "source": [
    "#----------------------------------------------\n",
    "# Your code starts here\n",
    "#   Please add comments or text cells in between to explain the general idea of each block of the code.\n",
    "#   Please feel free to add more cells below this cell if necessary\n",
    "import pandas as pd\n",
    "import numpy as np\n",
    "\n",
    "q = 'outage OR apagón'\n",
    "\n",
    "US_WOE_ID = 23424977\n",
    "BOSTON_WOE_ID = 2367105\n",
    "MANCHESTER_WOE_ID = 2444674\n",
    "\n",
    "#q = \"andrew\"\n",
    "# lat = \"42.2743\"\n",
    "# long = \"-71.8081\"\n",
    "# rad = \"50mi\"\n",
    "# geocode = lat + \",\" + long + \",\" + rad\n",
    "rates = twitter_api.application.rate_limit_status()\n",
    "remaining_searches = rates[\"resources\"][\"search\"][\"/search/tweets\"][\"remaining\"]\n",
    "# remaining_searches = 5\n",
    "\n",
    "statuses_to_get = 30000\n",
    "\n",
    "current_max_id = 0\n",
    "statuses = []\n",
    "# count = 100\n",
    "# See https://dev.twitter.com/docs/api/1.1/get/search/tweets\n",
    "while statuses_to_get != 0:\n",
    "    try:\n",
    "        count = 100\n",
    "        if statuses_to_get < 100:\n",
    "            count = statuses_to_get\n",
    "\n",
    "        if current_max_id == 0:\n",
    "            search_results = twitter_api.search.tweets(q=q, count=count)\n",
    "        else:\n",
    "            search_results = twitter_api.search.tweets(q=q, count=count, max_id=current_max_id)\n",
    "\n",
    "        current_max_id = search_results['statuses'][len(search_results['statuses'])-1][\"id\"]\n",
    "\n",
    "        if len(search_results['statuses']) == 0:\n",
    "            break\n",
    "        statuses += search_results['statuses'][1:]\n",
    "        statuses_to_get -= count\n",
    "        \n",
    "    except twitter.api.TwitterHTTPError:\n",
    "        rates = twitter_api.application.rate_limit_status()\n",
    "        \n",
    "        time_left = rates[\"resources\"][\"search\"][\"/search/tweets\"][\"reset\"] - time.time()\n",
    "        print(\"Waiting \" + str(time_left) + \" seconds\")\n",
    "        time.sleep(time_left + 2)\n",
    "\n",
    "    "
   ]
  },
  {
   "cell_type": "code",
   "execution_count": 317,
   "metadata": {},
   "outputs": [
    {
     "data": {
      "text/plain": [
       "29619"
      ]
     },
     "execution_count": 317,
     "metadata": {},
     "output_type": "execute_result"
    }
   ],
   "source": [
    "len(statuses)"
   ]
  },
  {
   "cell_type": "code",
   "execution_count": 318,
   "metadata": {},
   "outputs": [
    {
     "data": {
      "text/plain": [
       "29619"
      ]
     },
     "execution_count": 318,
     "metadata": {},
     "output_type": "execute_result"
    }
   ],
   "source": [
    "len(set([x[\"id\"] for x in statuses]))"
   ]
  },
  {
   "cell_type": "code",
   "execution_count": 319,
   "metadata": {},
   "outputs": [
    {
     "data": {
      "text/plain": [
       "60"
      ]
     },
     "execution_count": 319,
     "metadata": {},
     "output_type": "execute_result"
    }
   ],
   "source": [
    "rates = twitter_api.application.rate_limit_status()\n",
    "remaining_searches = rates[\"resources\"][\"search\"][\"/search/tweets\"][\"remaining\"]\n",
    "remaining_searches"
   ]
  },
  {
   "cell_type": "code",
   "execution_count": 331,
   "metadata": {},
   "outputs": [],
   "source": [
    "outages = {}\n",
    "for i in range(len(statuses)):\n",
    "    if statuses[i][\"user\"][\"location\"] and statuses[i][\"user\"][\"location\"].find('USA') == -1:\n",
    "        if statuses[i][\"user\"][\"location\"].upper() in outages:\n",
    "            outages[statuses[i][\"user\"][\"location\"].upper()][\"time_stamp\"].append(statuses[i][\"created_at\"])\n",
    "            outages[statuses[i][\"user\"][\"location\"].upper()][\"count\"] += 1\n",
    "        else:\n",
    "            outages[statuses[i][\"user\"][\"location\"].upper()] = {\n",
    "                \"count\": 1,\n",
    "                \"time_stamp\": [statuses[i][\"created_at\"]]\n",
    "            }\n",
    "\n",
    "    \n",
    "            \n",
    "country_count = [[key, outages[key][\"count\"]] for key in outages.keys()]\n",
    "\n",
    "df = pd.DataFrame(country_count, columns=[\"Location\", \"Count\"]).sort_values(by=\"Count\", ascending=False)\n",
    "\n",
    "with open('outages.json', 'w') as outfile:\n",
    "    json.dump(outages, outfile)"
   ]
  },
  {
   "cell_type": "code",
   "execution_count": null,
   "metadata": {},
   "outputs": [],
   "source": [
    "outages[\"NEW YORK CITY\"][\"time_stamp\"]"
   ]
  },
  {
   "cell_type": "code",
   "execution_count": 337,
   "metadata": {},
   "outputs": [],
   "source": [
    "with open('outages.json') as json_file:\n",
    "    data = json.load(json_file)\n"
   ]
  },
  {
   "cell_type": "code",
   "execution_count": 322,
   "metadata": {},
   "outputs": [
    {
     "data": {
      "image/png": "[encoded data removed]",
      "text/plain": [
       "<Figure size 1080x720 with 1 Axes>"
      ]
     },
     "metadata": {
      "needs_background": "light"
     },
     "output_type": "display_data"
    },
    {
     "data": {
      "text/plain": [
       "<Figure size 3600x720 with 0 Axes>"
      ]
     },
     "metadata": {},
     "output_type": "display_data"
    }
   ],
   "source": [
    "import matplotlib.dates as mdates\n",
    "\n",
    "for key in outages.keys():\n",
    "    outages[key][\"time_stamp\"] = [parse(x) for x in outages[key][\"time_stamp\"]]\n",
    "\n",
    "dat = outages[\"NEW YORK CITY\"][\"time_stamp\"]\n",
    "\n",
    "fig, ax = plt.subplots(1,1, figsize=(15,10))\n",
    "plt.figure(figsize=(50,10))\n",
    "ax.hist(dat, bins=50, color='lightblue')\n",
    "ax.set_ylabel(\"Frequency\")\n",
    "ax.set_xlabel(\"Day\")\n",
    "ax.set_title(\"Frequency of tweets containing outage in New York City\")\n",
    "# ax.xaxis.set_major_locator(mdates.YearLocator())\n",
    "ax.xaxis.set_major_formatter(mdates.DateFormatter('%m/%d %H:%M'))\n",
    "plt.show()\n"
   ]
  },
  {
   "cell_type": "code",
   "execution_count": 250,
   "metadata": {},
   "outputs": [
    {
     "data": {
      "text/html": [
       "<div>\n",
       "<style scoped>\n",
       "    .dataframe tbody tr th:only-of-type {\n",
       "        vertical-align: middle;\n",
       "    }\n",
       "\n",
       "    .dataframe tbody tr th {\n",
       "        vertical-align: top;\n",
       "    }\n",
       "\n",
       "    .dataframe thead th {\n",
       "        text-align: right;\n",
       "    }\n",
       "</style>\n",
       "<table border=\"1\" class=\"dataframe\">\n",
       "  <thead>\n",
       "    <tr style=\"text-align: right;\">\n",
       "      <th></th>\n",
       "      <th>Location</th>\n",
       "      <th>Count</th>\n",
       "    </tr>\n",
       "  </thead>\n",
       "  <tbody>\n",
       "    <tr>\n",
       "      <th>256</th>\n",
       "      <td>NAIROBI, KENYA</td>\n",
       "      <td>512</td>\n",
       "    </tr>\n",
       "    <tr>\n",
       "      <th>27</th>\n",
       "      <td>NEW YORK CITY</td>\n",
       "      <td>334</td>\n",
       "    </tr>\n",
       "    <tr>\n",
       "      <th>21</th>\n",
       "      <td>40 HERONMERE ROAD, 2016</td>\n",
       "      <td>207</td>\n",
       "    </tr>\n",
       "    <tr>\n",
       "      <th>4</th>\n",
       "      <td>JOHANNESBURG, SOUTH AFRICA</td>\n",
       "      <td>205</td>\n",
       "    </tr>\n",
       "    <tr>\n",
       "      <th>38</th>\n",
       "      <td>VENEZUELA</td>\n",
       "      <td>205</td>\n",
       "    </tr>\n",
       "    <tr>\n",
       "      <th>...</th>\n",
       "      <td>...</td>\n",
       "      <td>...</td>\n",
       "    </tr>\n",
       "    <tr>\n",
       "      <th>2142</th>\n",
       "      <td>CORO</td>\n",
       "      <td>1</td>\n",
       "    </tr>\n",
       "    <tr>\n",
       "      <th>2144</th>\n",
       "      <td>EN ESTE GRAN PLANETA TIERRA.</td>\n",
       "      <td>1</td>\n",
       "    </tr>\n",
       "    <tr>\n",
       "      <th>2146</th>\n",
       "      <td>MIGUEL HIDALGO</td>\n",
       "      <td>1</td>\n",
       "    </tr>\n",
       "    <tr>\n",
       "      <th>2147</th>\n",
       "      <td>NEW BRUNSWICK</td>\n",
       "      <td>1</td>\n",
       "    </tr>\n",
       "    <tr>\n",
       "      <th>4919</th>\n",
       "      <td>LARA</td>\n",
       "      <td>1</td>\n",
       "    </tr>\n",
       "  </tbody>\n",
       "</table>\n",
       "<p>4920 rows × 2 columns</p>\n",
       "</div>"
      ],
      "text/plain": [
       "                          Location  Count\n",
       "256                 NAIROBI, KENYA    512\n",
       "27                   NEW YORK CITY    334\n",
       "21        40 HERONMERE ROAD, 2016     207\n",
       "4       JOHANNESBURG, SOUTH AFRICA    205\n",
       "38                       VENEZUELA    205\n",
       "...                            ...    ...\n",
       "2142                          CORO      1\n",
       "2144  EN ESTE GRAN PLANETA TIERRA.      1\n",
       "2146                MIGUEL HIDALGO      1\n",
       "2147                 NEW BRUNSWICK      1\n",
       "4919                          LARA      1\n",
       "\n",
       "[4920 rows x 2 columns]"
      ]
     },
     "execution_count": 250,
     "metadata": {},
     "output_type": "execute_result"
    }
   ],
   "source": [
    "df"
   ]
  },
  {
   "cell_type": "code",
   "execution_count": 182,
   "metadata": {},
   "outputs": [],
   "source": [
    "import matplotlib.pyplot as plt\n",
    "import seaborn as sns\n",
    "\n",
    "X = [x for x in outages[\"CHICAGO, IL\"][\"time_stamp\"]]\n",
    "df = pd.DataFrame(X)"
   ]
  },
  {
   "cell_type": "code",
   "execution_count": 184,
   "metadata": {},
   "outputs": [],
   "source": [
    "df.to_csv(\"Chicago.csv\")"
   ]
  },
  {
   "cell_type": "code",
   "execution_count": 180,
   "metadata": {},
   "outputs": [
    {
     "data": {
      "text/plain": [
       "<matplotlib.collections.PathCollection at 0x7fe07b0dbfd0>"
      ]
     },
     "execution_count": 180,
     "metadata": {},
     "output_type": "execute_result"
    },
    {
     "data": {
      "image/png": "[encoded data removed]",
      "text/plain": [
       "<Figure size 432x288 with 1 Axes>"
      ]
     },
     "metadata": {
      "needs_background": "light"
     },
     "output_type": "display_data"
    }
   ],
   "source": [
    "plt.scatter(X,Y)"
   ]
  },
  {
   "cell_type": "code",
   "execution_count": 135,
   "metadata": {},
   "outputs": [
    {
     "data": {
      "text/plain": [
       "'Fri Feb 05 23:04:50 +0000 2021'"
      ]
     },
     "execution_count": 135,
     "metadata": {},
     "output_type": "execute_result"
    }
   ],
   "source": [
    "statuses[0][\"created_at\"]"
   ]
  },
  {
   "cell_type": "code",
   "execution_count": 132,
   "metadata": {},
   "outputs": [
    {
     "name": "stdout",
     "output_type": "stream",
     "text": [
      "[]\n"
     ]
    }
   ],
   "source": [
    "out = []\n",
    "\n",
    "for i in statuses:\n",
    "    if i[\"geo\"]:\n",
    "        out.append(i)\n",
    "        \n",
    "print(out)"
   ]
  },
  {
   "cell_type": "code",
   "execution_count": null,
   "metadata": {},
   "outputs": [],
   "source": [
    "statuses"
   ]
  },
  {
   "cell_type": "code",
   "execution_count": 128,
   "metadata": {},
   "outputs": [
    {
     "data": {
      "text/html": [
       "<div>\n",
       "<style scoped>\n",
       "    .dataframe tbody tr th:only-of-type {\n",
       "        vertical-align: middle;\n",
       "    }\n",
       "\n",
       "    .dataframe tbody tr th {\n",
       "        vertical-align: top;\n",
       "    }\n",
       "\n",
       "    .dataframe thead th {\n",
       "        text-align: right;\n",
       "    }\n",
       "</style>\n",
       "<table border=\"1\" class=\"dataframe\">\n",
       "  <thead>\n",
       "    <tr style=\"text-align: right;\">\n",
       "      <th></th>\n",
       "      <th>Location</th>\n",
       "      <th>Count</th>\n",
       "    </tr>\n",
       "  </thead>\n",
       "  <tbody>\n",
       "    <tr>\n",
       "      <th>10</th>\n",
       "      <td>Chicago, IL</td>\n",
       "      <td>20</td>\n",
       "    </tr>\n",
       "    <tr>\n",
       "      <th>0</th>\n",
       "      <td>Michigan, USA</td>\n",
       "      <td>15</td>\n",
       "    </tr>\n",
       "    <tr>\n",
       "      <th>20</th>\n",
       "      <td>Brooklyn, NY</td>\n",
       "      <td>15</td>\n",
       "    </tr>\n",
       "    <tr>\n",
       "      <th>51</th>\n",
       "      <td>Aberdeen</td>\n",
       "      <td>10</td>\n",
       "    </tr>\n",
       "    <tr>\n",
       "      <th>45</th>\n",
       "      <td>New York, NY</td>\n",
       "      <td>10</td>\n",
       "    </tr>\n",
       "    <tr>\n",
       "      <th>...</th>\n",
       "      <td>...</td>\n",
       "      <td>...</td>\n",
       "    </tr>\n",
       "    <tr>\n",
       "      <th>29</th>\n",
       "      <td>st.Johns</td>\n",
       "      <td>5</td>\n",
       "    </tr>\n",
       "    <tr>\n",
       "      <th>30</th>\n",
       "      <td>Newfoundland, Canada</td>\n",
       "      <td>5</td>\n",
       "    </tr>\n",
       "    <tr>\n",
       "      <th>31</th>\n",
       "      <td>Washington DC</td>\n",
       "      <td>5</td>\n",
       "    </tr>\n",
       "    <tr>\n",
       "      <th>32</th>\n",
       "      <td>Pittsburgh</td>\n",
       "      <td>5</td>\n",
       "    </tr>\n",
       "    <tr>\n",
       "      <th>65</th>\n",
       "      <td>VA, USA</td>\n",
       "      <td>5</td>\n",
       "    </tr>\n",
       "  </tbody>\n",
       "</table>\n",
       "<p>66 rows × 2 columns</p>\n",
       "</div>"
      ],
      "text/plain": [
       "                Location  Count\n",
       "10           Chicago, IL     20\n",
       "0          Michigan, USA     15\n",
       "20          Brooklyn, NY     15\n",
       "51              Aberdeen     10\n",
       "45          New York, NY     10\n",
       "..                   ...    ...\n",
       "29              st.Johns      5\n",
       "30  Newfoundland, Canada      5\n",
       "31         Washington DC      5\n",
       "32            Pittsburgh      5\n",
       "65               VA, USA      5\n",
       "\n",
       "[66 rows x 2 columns]"
      ]
     },
     "execution_count": 128,
     "metadata": {},
     "output_type": "execute_result"
    }
   ],
   "source": [
    "df"
   ]
  },
  {
   "cell_type": "code",
   "execution_count": null,
   "metadata": {},
   "outputs": [],
   "source": []
  },
  {
   "cell_type": "code",
   "execution_count": null,
   "metadata": {},
   "outputs": [],
   "source": []
  },
  {
   "cell_type": "markdown",
   "metadata": {},
   "source": [
    "*-----------------\n",
    "# Done\n",
    "\n",
    "All set! \n",
    "\n",
    "** What do you need to submit?**\n",
    "\n",
    "* **Notebook File**: Save this IPython notebook, and find the notebook file in your folder (for example, \"filename.ipynb\"). This is the file you need to submit. Please make sure all the plotted tables and figures are in the notebook. If you used \"ipython notebook --pylab=inline\" to open the notebook, all the figures and tables should have shown up in the notebook.\n",
    "\n",
    "\n",
    "* **PPT Slides**: please prepare PPT slides (for 15 minutes' talk) to present about the case study . We will ask two teams which are randomly selected to present their case studies in class for this case study. \n",
    "\n",
    "Please compress all the files in a zipped file.\n",
    "\n",
    "\n",
    "** How to submit: **\n",
    "\n",
    "        Please submit through email to Prof. Paffenroth (rcpaffenroth@wpi.edu).\n",
    "\n",
    "#### We auto-process the submissions so make sure your subject line is *exactly*:\n",
    "\n",
    "### DS3010 Case Study 1 Team ??\n",
    "\n",
    "#### where ?? is your team number.\n",
    "        \n",
    "** Note: Each team just needs to submits one submission **"
   ]
  },
  {
   "cell_type": "markdown",
   "metadata": {},
   "source": [
    "# Grading Criteria:\n",
    "\n",
    "**Totoal Points: 100**\n",
    "\n",
    "\n",
    "---------------------------------------------------------------------------\n",
    "**Notebook results:**\n",
    "    Points: 80\n",
    "\n",
    "\n",
    "    -----------------------------------\n",
    "    Question 1:\n",
    "    Points: 20\n",
    "    -----------------------------------\n",
    "    \n",
    "    -----------------------------------\n",
    "    Question 2:\n",
    "    Points: 20\n",
    "    -----------------------------------\n",
    "        \n",
    "    -----------------------------------\n",
    "    Question 3:\n",
    "    Points: 20\n",
    "    -----------------------------------\n",
    "  \n",
    "    -----------------------------------\n",
    "    Question 4:  Business question\n",
    "    Points: 20\n",
    "    -----------------------------------\n",
    "        Novelty: 10\n",
    "        Interestingness: 10\n",
    "    -----------------------------------\n",
    "    Come up with a business question and describe how Twitter data and a NoSQL database such as MongoDB call help you anser it.\n",
    "\n",
    "\n",
    "---------------------------------------------------------------------------\n",
    "**Slides (for 10 minutes of presentation): Story-telling**\n",
    "    Points: 20\n",
    "\n",
    "\n",
    "1. Motivation about the data collection, why the topic is interesting to you.\n",
    "    Points: 5 \n",
    "\n",
    "2. Communicating Results (figure/table)\n",
    "    Points: 10 \n",
    "\n",
    "3. Story telling (How all the parts (data, analysis, result) fit together as a story?)\n",
    "    Points: 5 \n",
    "\n",
    "\n"
   ]
  },
  {
   "cell_type": "code",
   "execution_count": null,
   "metadata": {},
   "outputs": [],
   "source": []
  }
 ],
 "metadata": {
  "anaconda-cloud": {},
  "kernel_info": {
   "name": "python3"
  },
  "kernelspec": {
   "display_name": "Python 3",
   "language": "python",
   "name": "python3"
  },
  "language_info": {
   "codemirror_mode": {
    "name": "ipython",
    "version": 3
   },
   "file_extension": ".py",
   "mimetype": "text/x-python",
   "name": "python",
   "nbconvert_exporter": "python",
   "pygments_lexer": "ipython3",
   "version": "3.8.5"
  },
  "nteract": {
   "version": "0.2.0"
  }
 },
 "nbformat": 4,
 "nbformat_minor": 4
}
