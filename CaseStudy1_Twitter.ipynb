{
 "cells": [
  {
   "cell_type": "markdown",
   "metadata": {},
   "source": [
    "# Case Study 1 : Collecting Data from Twitter\n",
    "\n",
    "Due Date: 2/8/2021, **BEFORE the beginning of class at 11:00am**\n",
    "\n",
    "## **NOTE: There are *always* last minute issues submitting the case studies.  DO NOT WAIT UNTIL THE LAST MINUTE!**"
   ]
  },
  {
   "cell_type": "markdown",
   "metadata": {},
   "source": [
    "<img src=\"https://upload.wikimedia.org/wikipedia/en/thumb/9/9f/Twitter_bird_logo_2012.svg/220px-Twitter_bird_logo_2012.svg.png\">"
   ]
  },
  {
   "cell_type": "markdown",
   "metadata": {},
   "source": [
    "**TEAM Members:** Please EDIT this cell and add the names of all the team members in your team\n",
    "\n",
    "    member 1\n",
    "    \n",
    "    member 2\n",
    "    \n",
    "    ..."
   ]
  },
  {
   "cell_type": "markdown",
   "metadata": {},
   "source": [
    "**Suggested Readings:** \n",
    "* Chapter 1 and Chapter 9 of the book \"Mining the Social Web\" can help a lot if you get stuck. \n",
    "* In fact, it is intentional that many of these questions can be answered directly from there (except for question 4)!\n",
    "* The idea is to ease you into the case studies :-)\n",
    "\n",
    "**Don't forget!**\n",
    "* You will need to install the python-twitter library to access the Twitter API\n",
    " * pip install twitter\n",
    "\n",
    "\n",
    "** NOTE **\n",
    "* **Please don't forget to save the notebook frequently when working in IPython Notebook, otherwise the changes you made can be lost**."
   ]
  },
  {
   "cell_type": "markdown",
   "metadata": {},
   "source": [
    "# Problem 1 (20 points): Sampling Twitter Data with either Search or Streaming API about a certain topic"
   ]
  },
  {
   "cell_type": "markdown",
   "metadata": {},
   "source": [
    "* Select a topic that you are interested in, for example, \"WPI\" or \"Lady Gaga\"\n",
    "* Use Twitter API to sample a collection of tweets about this topic. (It would be recommended that the number of tweets should be larger than 200, but smaller than 1 million.\n",
    "* Store the tweets you downloaded into a local file (txt file or json file) "
   ]
  },
  {
   "cell_type": "code",
   "execution_count": 2,
   "metadata": {},
   "outputs": [
    {
     "output_type": "stream",
     "name": "stdout",
     "text": [
      "Length of statuses 100\n",
      "Length of statuses 200\n",
      "Length of statuses 300\n",
      "Length of statuses 400\n",
      "Length of statuses 500\n",
      "{\n",
      " \"created_at\": \"Fri Feb 05 16:58:59 +0000 2021\",\n",
      " \"id\": 1357735483313430528,\n",
      " \"id_str\": \"1357735483313430528\",\n",
      " \"text\": \"RT @akskhshbu: UN observers are not allowed in the valley. Problems in the valley due to internet outage cannot be highlighted, only files\\u2026\",\n",
      " \"truncated\": false,\n",
      " \"entities\": {\n",
      "  \"hashtags\": [],\n",
      "  \"symbols\": [],\n",
      "  \"user_mentions\": [\n",
      "   {\n",
      "    \"screen_name\": \"akskhshbu\",\n",
      "    \"name\": \"S H A H B A Z\",\n",
      "    \"id\": 1165355895179624449,\n",
      "    \"id_str\": \"1165355895179624449\",\n",
      "    \"indices\": [\n",
      "     3,\n",
      "     13\n",
      "    ]\n",
      "   }\n",
      "  ],\n",
      "  \"urls\": []\n",
      " },\n",
      " \"metadata\": {\n",
      "  \"iso_language_code\": \"en\",\n",
      "  \"result_type\": \"recent\"\n",
      " },\n",
      " \"source\": \"<a href=\\\"http://twitter.com/download/android\\\" rel=\\\"nofollow\\\">Twitter for Android</a>\",\n",
      " \"in_reply_to_status_id\": null,\n",
      " \"in_reply_to_status_id_str\": null,\n",
      " \"in_reply_to_user_id\": null,\n",
      " \"in_reply_to_user_id_str\": null,\n",
      " \"in_reply_to_screen_name\": null,\n",
      " \"user\": {\n",
      "  \"id\": 1296730355676991488,\n",
      "  \"id_str\": \"1296730355676991488\",\n",
      "  \"name\": \"Abeer\\u2764\\ud83c\\uddf5\\ud83c\\uddf0\\u2764\",\n",
      "  \"screen_name\": \"haya6530\",\n",
      "  \"location\": \"\",\n",
      "  \"description\": \"https://t.co/lBhyswGYDF\",\n",
      "  \"url\": null,\n",
      "  \"entities\": {\n",
      "   \"description\": {\n",
      "    \"urls\": [\n",
      "     {\n",
      "      \"url\": \"https://t.co/lBhyswGYDF\",\n",
      "      \"expanded_url\": \"https://twitter.com/search/from:@haya6530\",\n",
      "      \"display_url\": \"twitter.com/search/from:@h\\u2026\",\n",
      "      \"indices\": [\n",
      "       0,\n",
      "       23\n",
      "      ]\n",
      "     }\n",
      "    ]\n",
      "   }\n",
      "  },\n",
      "  \"protected\": false,\n",
      "  \"followers_count\": 2266,\n",
      "  \"friends_count\": 2146,\n",
      "  \"listed_count\": 0,\n",
      "  \"created_at\": \"Fri Aug 21 08:46:32 +0000 2020\",\n",
      "  \"favourites_count\": 9777,\n",
      "  \"utc_offset\": null,\n",
      "  \"time_zone\": null,\n",
      "  \"geo_enabled\": false,\n",
      "  \"verified\": false,\n",
      "  \"statuses_count\": 6897,\n",
      "  \"lang\": null,\n",
      "  \"contributors_enabled\": false,\n",
      "  \"is_translator\": false,\n",
      "  \"is_translation_enabled\": false,\n",
      "  \"profile_background_color\": \"F5F8FA\",\n",
      "  \"profile_background_image_url\": null,\n",
      "  \"profile_background_image_url_https\": null,\n",
      "  \"profile_background_tile\": false,\n",
      "  \"profile_image_url\": \"http://pbs.twimg.com/profile_images/1297700192242761729/o5WgUOuh_normal.jpg\",\n",
      "  \"profile_image_url_https\": \"https://pbs.twimg.com/profile_images/1297700192242761729/o5WgUOuh_normal.jpg\",\n",
      "  \"profile_banner_url\": \"https://pbs.twimg.com/profile_banners/1296730355676991488/1599127328\",\n",
      "  \"profile_link_color\": \"1DA1F2\",\n",
      "  \"profile_sidebar_border_color\": \"C0DEED\",\n",
      "  \"profile_sidebar_fill_color\": \"DDEEF6\",\n",
      "  \"profile_text_color\": \"333333\",\n",
      "  \"profile_use_background_image\": true,\n",
      "  \"has_extended_profile\": true,\n",
      "  \"default_profile\": true,\n",
      "  \"default_profile_image\": false,\n",
      "  \"following\": false,\n",
      "  \"follow_request_sent\": false,\n",
      "  \"notifications\": false,\n",
      "  \"translator_type\": \"none\"\n",
      " },\n",
      " \"geo\": null,\n",
      " \"coordinates\": null,\n",
      " \"place\": null,\n",
      " \"contributors\": null,\n",
      " \"retweeted_status\": {\n",
      "  \"created_at\": \"Fri Feb 05 06:09:11 +0000 2021\",\n",
      "  \"id\": 1357571955193507841,\n",
      "  \"id_str\": \"1357571955193507841\",\n",
      "  \"text\": \"UN observers are not allowed in the valley. Problems in the valley due to internet outage cannot be highlighted, on\\u2026 https://t.co/pEyyqFZXRc\",\n",
      "  \"truncated\": true,\n",
      "  \"entities\": {\n",
      "   \"hashtags\": [],\n",
      "   \"symbols\": [],\n",
      "   \"user_mentions\": [],\n",
      "   \"urls\": [\n",
      "    {\n",
      "     \"url\": \"https://t.co/pEyyqFZXRc\",\n",
      "     \"expanded_url\": \"https://twitter.com/i/web/status/1357571955193507841\",\n",
      "     \"display_url\": \"twitter.com/i/web/status/1\\u2026\",\n",
      "     \"indices\": [\n",
      "      117,\n",
      "      140\n",
      "     ]\n",
      "    }\n",
      "   ]\n",
      "  },\n",
      "  \"metadata\": {\n",
      "   \"iso_language_code\": \"en\",\n",
      "   \"result_type\": \"recent\"\n",
      "  },\n",
      "  \"source\": \"<a href=\\\"http://twitter.com/download/android\\\" rel=\\\"nofollow\\\">Twitter for Android</a>\",\n",
      "  \"in_reply_to_status_id\": null,\n",
      "  \"in_reply_to_status_id_str\": null,\n",
      "  \"in_reply_to_user_id\": null,\n",
      "  \"in_reply_to_user_id_str\": null,\n",
      "  \"in_reply_to_screen_name\": null,\n",
      "  \"user\": {\n",
      "   \"id\": 1165355895179624449,\n",
      "   \"id_str\": \"1165355895179624449\",\n",
      "   \"name\": \"S H A H B A Z\",\n",
      "   \"screen_name\": \"akskhshbu\",\n",
      "   \"location\": \"Sindh, Pakistan\",\n",
      "   \"description\": \"\\u200f\\u200f\\u200f\\u200f\\u200f\\u200f\\u200f\\u200f\\u200f\\u200f\\u200f\\u200f\\u200f\\u200f\\u200f\\ud83d\\udc96\\u2728\\u0642\\u06cc\\u0645\\u062a\\u06cc \\u06c1\\u0648 \\u06a9\\u0631 \\u0645\\u0641\\u062a \\u06c1\\u0648 \\u062c\\u0627\\u0646\\u0627 \\u06c1\\u06cc \\u0627\\u0635\\u0644 \\u062f\\u0631\\u0648\\u06cc\\u0634\\u06cc \\u06c1\\u06d2\\u2728\\ud83d\\udc96       \\n\\n  \\u200f\\u200e\\u200e\\u200e\\u200e\\u200e\\u200e\\u200e\\u200e\\u200e\\u200e\\u200e\\u200e\\u200e\\u200e\\u200e\\u200e\\u200e\\u200e\\u200e\\u200e\\u200e#\\u0645\\u062d\\u0628\\u062a_\\u0645\\u0627\\u0641\\u06cc\\u0627  \\n\\n\\u200ehttps://t.co/4uHD8ZgLzC\\u200e\\u200e\\u200e\\u200e\\u200e\\u200e\\u200e\\u200e\",\n",
      "   \"url\": null,\n",
      "   \"entities\": {\n",
      "    \"description\": {\n",
      "     \"urls\": [\n",
      "      {\n",
      "       \"url\": \"https://t.co/4uHD8ZgLzC\",\n",
      "       \"expanded_url\": \"https://Twitter.com/search/from:@akskhshbu\",\n",
      "       \"display_url\": \"Twitter.com/search/from:@a\\u2026\",\n",
      "       \"indices\": [\n",
      "        108,\n",
      "        131\n",
      "       ]\n",
      "      }\n",
      "     ]\n",
      "    }\n",
      "   },\n",
      "   \"protected\": false,\n",
      "   \"followers_count\": 8582,\n",
      "   \"friends_count\": 8497,\n",
      "   \"listed_count\": 2,\n",
      "   \"created_at\": \"Sat Aug 24 20:11:31 +0000 2019\",\n",
      "   \"favourites_count\": 33182,\n",
      "   \"utc_offset\": null,\n",
      "   \"time_zone\": null,\n",
      "   \"geo_enabled\": false,\n",
      "   \"verified\": false,\n",
      "   \"statuses_count\": 35307,\n",
      "   \"lang\": null,\n",
      "   \"contributors_enabled\": false,\n",
      "   \"is_translator\": false,\n",
      "   \"is_translation_enabled\": false,\n",
      "   \"profile_background_color\": \"F5F8FA\",\n",
      "   \"profile_background_image_url\": null,\n",
      "   \"profile_background_image_url_https\": null,\n",
      "   \"profile_background_tile\": false,\n",
      "   \"profile_image_url\": \"http://pbs.twimg.com/profile_images/1353979974840168448/B6Q2wg2K_normal.jpg\",\n",
      "   \"profile_image_url_https\": \"https://pbs.twimg.com/profile_images/1353979974840168448/B6Q2wg2K_normal.jpg\",\n",
      "   \"profile_banner_url\": \"https://pbs.twimg.com/profile_banners/1165355895179624449/1612170296\",\n",
      "   \"profile_link_color\": \"1DA1F2\",\n",
      "   \"profile_sidebar_border_color\": \"C0DEED\",\n",
      "   \"profile_sidebar_fill_color\": \"DDEEF6\",\n",
      "   \"profile_text_color\": \"333333\",\n",
      "   \"profile_use_background_image\": true,\n",
      "   \"has_extended_profile\": true,\n",
      "   \"default_profile\": true,\n",
      "   \"default_profile_image\": false,\n",
      "   \"following\": false,\n",
      "   \"follow_request_sent\": false,\n",
      "   \"notifications\": false,\n",
      "   \"translator_type\": \"none\"\n",
      "  },\n",
      "  \"geo\": null,\n",
      "  \"coordinates\": null,\n",
      "  \"place\": null,\n",
      "  \"contributors\": null,\n",
      "  \"is_quote_status\": false,\n",
      "  \"retweet_count\": 34,\n",
      "  \"favorite_count\": 19,\n",
      "  \"favorited\": false,\n",
      "  \"retweeted\": false,\n",
      "  \"possibly_sensitive\": false,\n",
      "  \"lang\": \"en\"\n",
      " },\n",
      " \"is_quote_status\": false,\n",
      " \"retweet_count\": 34,\n",
      " \"favorite_count\": 0,\n",
      " \"favorited\": false,\n",
      " \"retweeted\": false,\n",
      " \"lang\": \"en\"\n",
      "}\n"
     ]
    }
   ],
   "source": [
    "import twitter\n",
    "import json\n",
    "#---------------------------------------------\n",
    "# Define a Function to Login Twitter API\n",
    "def oauth_login():\n",
    "    # Prof. Paffenroth has a developer account for the class.  He will provide the Twitter access tokens for\n",
    "    # each team\n",
    "    # See https://developer.twitter.com/docs/auth/oauth for more information \n",
    "    # on Twitter's OAuth implementation.\n",
    "    \n",
    "    CONSUMER_KEY = 'oVek8jmhI4sz8SbKnT1e6UsIh'\n",
    "    CONSUMER_SECRET ='3eGB6ip82K3XowIDEmz9JXIbRc2uFSlHvjPJ8Lmkf3HVIdlmhM'\n",
    "    OAUTH_TOKEN = '571213367-H0r2WfySE7L4vgUJHv4YLW2vZGLa7TEPP7iWsTNu'\n",
    "    OAUTH_TOKEN_SECRET = 'uKcYixkDRaCUvaP2oqH9a9fIaIB9nf4NKz32iqo2t7B7K'\n",
    "\n",
    "    \n",
    "    auth = twitter.oauth.OAuth(OAUTH_TOKEN, OAUTH_TOKEN_SECRET,\n",
    "                               CONSUMER_KEY, CONSUMER_SECRET)\n",
    "    \n",
    "    twitter_api = twitter.Twitter(auth=auth)\n",
    "    return twitter_api\n",
    "\n",
    "twitter_api = oauth_login()\n",
    "\n",
    "#----------------------------------------------\n",
    "# Your code starts here\n",
    "#   Please add comments or text cells in between to explain the general idea of each block of the code.\n",
    "#   Please feel free to add more cells below this cell if necessary\n",
    "\n",
    "q = 'outage' #key word\n",
    "\n",
    "count = 100 # change to change how many tweets you get\n",
    "\n",
    "# Import unquote to prevent URL encoding errors in next_results\n",
    "from urllib.parse import unquote\n",
    "\n",
    "search_results = twitter_api.search.tweets(q=q, count=count)\n",
    "\n",
    "statuses = search_results['statuses']\n",
    "\n",
    "for _ in range(5): #takes count 5 times, 100*5 = 500\n",
    "    print('Length of statuses', len(statuses))\n",
    "    try:\n",
    "        next_results = search_results['search_metadata']['next_results']\n",
    "    except KeyError as e: # No more results when next_results doesn't exist\n",
    "        break\n",
    "\n",
    "    # Create a dictionary from next_results, which has the following form:\n",
    "    kwargs = dict([ kv.split('=') for kv in unquote(next_results[1:]).split(\"&\") ])\n",
    "\n",
    "    search_results = twitter_api.search.tweets(**kwargs)\n",
    "    statuses += search_results['statuses']\n",
    "\n",
    "# Show one sample search result by slicing the list...\n",
    "print(json.dumps(statuses[0], indent=1)) \n",
    "\n"
   ]
  },
  {
   "cell_type": "markdown",
   "metadata": {},
   "source": [
    "### Report some statistics about the tweets you collected \n",
    "\n",
    "* The topic of interest: < INSERT YOUR TOPIC HERE>\n",
    "\n",
    "\n",
    "* The total number of tweets collected:  < INSERT THE NUMBER HERE>"
   ]
  },
  {
   "cell_type": "markdown",
   "metadata": {},
   "source": [
    "*-----------------------"
   ]
  },
  {
   "cell_type": "markdown",
   "metadata": {},
   "source": [
    "# Problem 2 (20 points): Analyzing Tweets and Tweet Entities with Frequency Analysis\n",
    "\n",
    "**1. Word Count:** \n",
    "* Use the tweets you collected in Problem 1, and compute the frequencies of the words being used in these tweets. \n",
    "* Plot a table of the top 30 words with their counts"
   ]
  },
  {
   "cell_type": "code",
   "execution_count": 116,
   "metadata": {
    "tags": []
   },
   "outputs": [
    {
     "output_type": "stream",
     "name": "stdout",
     "text": [
      "+-----------------------+\n|      Top 30 Words     |\n+---------------+-------+\n|      Word     | Count |\n+---------------+-------+\n|     outage    |  516  |\n| @citypowerjhb |  301  |\n|       in      |  249  |\n|      the      |  245  |\n|     power     |  217  |\n|       is      |  187  |\n|       a       |  153  |\n|       to      |  149  |\n|       we      |  136  |\n|       rt      |  132  |\n|       an      |  109  |\n|      are      |  105  |\n|      you      |  104  |\n|      and      |  104  |\n|      for      |  103  |\n|     please    |   91  |\n|       of      |   88  |\n|       at      |   86  |\n|       on      |   83  |\n|      area     |   83  |\n|      not      |   82  |\n|      this     |   75  |\n|  loadshedding |   66  |\n|       it      |   54  |\n|      load     |   52  |\n|      our      |   51  |\n|   affecting   |   49  |\n|    shedding   |   47  |\n|      have     |   42  |\n|      that     |   41  |\n+---------------+-------+\n"
     ]
    }
   ],
   "source": [
    "import cloudpickle\n",
    "import nltk\n",
    "# import matplotlib.pyplot as plt\n",
    "from prettytable import PrettyTable\n",
    "\n",
    "# pickling/saving data\n",
    "f = open('outages.pickle', 'wb')\n",
    "cloudpickle.dump(statuses, f)\n",
    "f.close()\n",
    "\n",
    "# getting only the words in the tweets, clean them\n",
    "words = []\n",
    "result_set = set()\n",
    "\n",
    "for tweet in statuses:\n",
    "    text = tweet['text']\n",
    "    text = text.lower()\n",
    "    dirty_words = [ w for w in text.split() ]\n",
    "    dirty_words = [word.strip('.,!;()[]:') for word in dirty_words]\n",
    "    dirty_words = [word.replace(\"'s\", '') for word in dirty_words]\n",
    "    words += dirty_words\n",
    "\n",
    "# case insensitive\n",
    "def no_dupes(data):\n",
    "    seen, result = set(), []\n",
    "\n",
    "    for item in data:\n",
    "        if item not in seen:\n",
    "            seen.add(item)\n",
    "            result.append(item)\n",
    "    return result\n",
    "\n",
    "# frequency distribution\n",
    "freq_dist = nltk.FreqDist(words)\n",
    "\n",
    "# top 30 words\n",
    "top30 = freq_dist.most_common(30)\n",
    "\n",
    "# table of top 30 words\n",
    "x = PrettyTable()\n",
    "x.title = 'Top 30 Words'\n",
    "x.field_names = ['Word', 'Count']\n",
    "x.add_rows(top30)\n",
    "print(x)"
   ]
  },
  {
   "cell_type": "markdown",
   "metadata": {},
   "source": [
    "**2. Find the most popular tweets in your collection of tweets**\n",
    "\n",
    "Please plot a table of the top 10 tweets that are the most popular among your collection, i.e., the tweets with the largest number of retweet counts.\n"
   ]
  },
  {
   "cell_type": "code",
   "execution_count": 117,
   "metadata": {},
   "outputs": [],
   "source": [
    "def get_tweets_rt_count(data):\n",
    "    tweets = []\n",
    "    rt_counts = []\n",
    "\n",
    "    for tweet in data:\n",
    "        tweets.append(tweet['text'])\n",
    "        rt_counts.append(tweet['retweet_count'])\n",
    "\n",
    "    return list(set(zip(tweets, rt_counts)))"
   ]
  },
  {
   "cell_type": "code",
   "execution_count": 118,
   "metadata": {},
   "outputs": [],
   "source": [
    "def rt_count(tup):\n",
    "    return tup[1]"
   ]
  },
  {
   "cell_type": "code",
   "execution_count": 119,
   "metadata": {
    "tags": []
   },
   "outputs": [
    {
     "output_type": "stream",
     "name": "stdout",
     "text": [
      "+--------------------------------------------------------------------+\n|                     Top 10 Most Popular Tweets                     |\n+----------------------------------------------------+---------------+\n|                       Tweet                        | Retweet Count |\n+----------------------------------------------------+---------------+\n|  RT @DaKidGowie: To this day, no one can convince  |      477      |\n| me that the power outage wasn't the NFL's attempt  |               |\n|          to kill the Ravens' momentum. 😒          |               |\n+----------------------------------------------------+---------------+\n|     RT @BvueFD: CenturyLink is reporting a 911     |       37      |\n| landline outage affecting as many as 32,000 homes  |               |\n|  in Bellevue. If you need to report an emergenc…   |               |\n+----------------------------------------------------+---------------+\n|           RT @coinbase: On January 29th,           |       35      |\n|   https://t.co/0tiBsD1C1r had an outage and many   |               |\n|         users experienced errors although          |               |\n|            https://t.co/vzbVey3JTS tra…            |               |\n+----------------------------------------------------+---------------+\n| RT @akskhshbu: UN observers are not allowed in the |       34      |\n|   valley. Problems in the valley due to internet   |               |\n|     outage cannot be highlighted, only files…      |               |\n+----------------------------------------------------+---------------+\n| RT @IndiaToday: India shuts its internet down more |       22      |\n| frequently than any other democracy in the world,  |               |\n|      said a report by Forbes. Within India,…       |               |\n+----------------------------------------------------+---------------+\n|  #JoburgUpdates #JoburgServices #RoodepoortOutage  |       21      |\n|                                                    |               |\n|        We are aware of the outage affecting        |               |\n|           Weltevredenpark, Allen” s Ne…            |               |\n|              https://t.co/2lOp9IG11c               |               |\n+----------------------------------------------------+---------------+\n|  RT @CityPowerJhb: #JoburgUpdates #JoburgServices  |       21      |\n|                 #RoodepoortOutage                  |               |\n|                                                    |               |\n|        We are aware of the outage affecting        |               |\n|        Weltevredenpark, Allen” s Nek, Rui…         |               |\n+----------------------------------------------------+---------------+\n| RT @BvuePD: A Lumen/Centurylink 911 system outage  |       17      |\n|  is impacting 8K customers in Bellevue, Glencourt  |               |\n|     area. Call 425-577-5599 for emergency se…      |               |\n+----------------------------------------------------+---------------+\n| A Lumen/Centurylink 911 system outage is impacting |       17      |\n|   8K customers in Bellevue, Glencourt area. Call   |               |\n|     425-577-5599 for… https://t.co/fzo9Lf9NWH      |               |\n+----------------------------------------------------+---------------+\n| RT @CalebFinn1: @CityPowerJhb has been alerted to  |       6       |\n| the widespread power outage affecting the greater  |               |\n|      Florida and surrounding areas. The caus…      |               |\n+----------------------------------------------------+---------------+\n"
     ]
    }
   ],
   "source": [
    "from tables import *\n",
    "import numpy as np\n",
    "\n",
    "# retrieve data/unpickle\n",
    "pickle_off = open(\"outages.pickle\",\"rb\")\n",
    "outages = cloudpickle.load(pickle_off)\n",
    "\n",
    "# get only the tweets and retweet count\n",
    "tweets_rts = get_tweets_rt_count(outages)\n",
    "\n",
    "# sort by retweet count\n",
    "tweets_rts.sort(reverse=True,key=rt_count)\n",
    "\n",
    "# top 10 table\n",
    "top10 = tweets_rts[:10]\n",
    "\n",
    "x = PrettyTable()\n",
    "x.title = 'Top 10 Most Popular Tweets'\n",
    "x.field_names = ['Tweet', 'Retweet Count']\n",
    "x.add_rows(top10)\n",
    "x._max_width = {\"Tweet\" : 50, \"Retweet Count\" : 25}\n",
    "x.hrules = 1\n",
    "print(x)"
   ]
  },
  {
   "cell_type": "markdown",
   "metadata": {},
   "source": [
    "**3. Find the most popular Tweet Entities in your collection of tweets**\n",
    "\n",
    "Please plot a table of the top 10 hashtags, top 10 user mentions that are the most popular in your collection of tweets."
   ]
  },
  {
   "cell_type": "code",
   "execution_count": 107,
   "metadata": {},
   "outputs": [
    {
     "output_type": "stream",
     "name": "stdout",
     "text": [
      "Help on class PrettyTable in module prettytable.prettytable:\n\nclass PrettyTable(builtins.object)\n |  PrettyTable(field_names=None, **kwargs)\n |  \n |  Methods defined here:\n |  \n |  __getattr__(self, name)\n |  \n |  __getitem__(self, index)\n |  \n |  __init__(self, field_names=None, **kwargs)\n |      Return a new PrettyTable instance\n |      \n |      Arguments:\n |      \n |      encoding - Unicode encoding scheme used to decode any encoded input\n |      title - optional table title\n |      field_names - list or tuple of field names\n |      fields - list or tuple of field names to include in displays\n |      start - index of first data row to include in output\n |      end - index of last data row to include in output PLUS ONE (list slice style)\n |      header - print a header showing field names (True or False)\n |      header_style - stylisation to apply to field names in header\n |          (\"cap\", \"title\", \"upper\", \"lower\" or None)\n |      border - print a border around the table (True or False)\n |      hrules - controls printing of horizontal rules after rows.\n |          Allowed values: FRAME, HEADER, ALL, NONE\n |      vrules - controls printing of vertical rules between columns.\n |          Allowed values: FRAME, ALL, NONE\n |      int_format - controls formatting of integer data\n |      float_format - controls formatting of floating point data\n |      min_table_width - minimum desired table width, in characters\n |      max_table_width - maximum desired table width, in characters\n |      padding_width - number of spaces on either side of column data\n |          (only used if left and right paddings are None)\n |      left_padding_width - number of spaces on left hand side of column data\n |      right_padding_width - number of spaces on right hand side of column data\n |      vertical_char - single character string used to draw vertical lines\n |      horizontal_char - single character string used to draw horizontal lines\n |      junction_char - single character string used to draw line junctions\n |      sortby - name of field to sort rows by\n |      sort_key - sorting key function, applied to data points before sorting\n |      valign - default valign for each row (None, \"t\", \"m\" or \"b\")\n |      reversesort - True or False to sort in descending or ascending order\n |      oldsortslice - Slice rows before sorting in the \"old style\"\n |  \n |  __str__(self)\n |      Return str(self).\n |  \n |  add_column(self, fieldname, column, align='c', valign='t')\n |      Add a column to the table.\n |      \n |      Arguments:\n |      \n |      fieldname - name of the field to contain the new column of data\n |      column - column of data, should be a list with as many elements as the\n |      table has rows\n |      align - desired alignment for this column - \"l\" for left, \"c\" for centre and\n |          \"r\" for right\n |      valign - desired vertical alignment for new columns - \"t\" for top,\n |          \"m\" for middle and \"b\" for bottom\n |  \n |  add_row(self, row)\n |      Add a row to the table\n |      \n |      Arguments:\n |      \n |      row - row of data, should be a list with as many elements as the table\n |      has fields\n |  \n |  add_rows(self, rows)\n |      Add rows to the table\n |      \n |      Arguments:\n |      \n |      rows - rows of data, should be an iterable of lists, each list with as many\n |      elements as the table has fields\n |  \n |  clear(self)\n |      Delete all rows and field names from the table, maintaining nothing but\n |      styling options\n |  \n |  clear_rows(self)\n |      Delete all rows from the table but keep the current field names\n |  \n |  copy(self)\n |  \n |  del_column(self, fieldname)\n |      Delete a column from the table\n |      \n |      Arguments:\n |      \n |      fieldname - The field name of the column you want to delete.\n |  \n |  del_row(self, row_index)\n |      Delete a row from the table\n |      \n |      Arguments:\n |      \n |      row_index - The index of the row you want to delete.  Indexing starts at 0.\n |  \n |  get_csv_string(self, **kwargs)\n |      Return string representation of CSV formatted table in the current state\n |      \n |      Keyword arguments are first interpreted as table formatting options, and\n |      then any unused keyword arguments are passed to csv.writer(). For\n |      example, get_csv_string(header=False, delimiter='       ') would use\n |      header as a PrettyTable formatting option (skip the header row) and\n |      delimiter as a csv.writer keyword argument.\n |  \n |  get_html_string(self, **kwargs)\n |      Return string representation of HTML formatted version of table in current\n |      state.\n |      \n |      Arguments:\n |      \n |      title - optional table title\n |      start - index of first data row to include in output\n |      end - index of last data row to include in output PLUS ONE (list slice style)\n |      fields - names of fields (columns) to include\n |      header - print a header showing field names (True or False)\n |      border - print a border around the table (True or False)\n |      hrules - controls printing of horizontal rules after rows.\n |          Allowed values: ALL, FRAME, HEADER, NONE\n |      vrules - controls printing of vertical rules between columns.\n |          Allowed values: FRAME, ALL, NONE\n |      int_format - controls formatting of integer data\n |      float_format - controls formatting of floating point data\n |      padding_width - number of spaces on either side of column data (only used if\n |          left and right paddings are None)\n |      left_padding_width - number of spaces on left hand side of column data\n |      right_padding_width - number of spaces on right hand side of column data\n |      sortby - name of field to sort rows by\n |      sort_key - sorting key function, applied to data points before sorting\n |      attributes - dictionary of name/value pairs to include as HTML attributes in the\n |          <table> tag\n |      xhtml - print <br/> tags if True, <br> tags if false\n |  \n |  get_json_string(self, **kwargs)\n |      Return string representation of JSON formatted table in the current state\n |      \n |      Arguments:\n |      \n |      none yet\n |  \n |  get_string(self, **kwargs)\n |      Return string representation of table in current state.\n |      \n |      Arguments:\n |      \n |      title - optional table title\n |      start - index of first data row to include in output\n |      end - index of last data row to include in output PLUS ONE (list slice style)\n |      fields - names of fields (columns) to include\n |      header - print a header showing field names (True or False)\n |      border - print a border around the table (True or False)\n |      hrules - controls printing of horizontal rules after rows.\n |          Allowed values: ALL, FRAME, HEADER, NONE\n |      vrules - controls printing of vertical rules between columns.\n |          Allowed values: FRAME, ALL, NONE\n |      int_format - controls formatting of integer data\n |      float_format - controls formatting of floating point data\n |      padding_width - number of spaces on either side of column data (only used if\n |          left and right paddings are None)\n |      left_padding_width - number of spaces on left hand side of column data\n |      right_padding_width - number of spaces on right hand side of column data\n |      vertical_char - single character string used to draw vertical lines\n |      horizontal_char - single character string used to draw horizontal lines\n |      junction_char - single character string used to draw line junctions\n |      sortby - name of field to sort rows by\n |      sort_key - sorting key function, applied to data points before sorting\n |      reversesort - True or False to sort in descending or ascending order\n |      print empty - if True, stringify just the header for an empty table,\n |          if False return an empty string\n |  \n |  paginate(self, page_length=58, **kwargs)\n |  \n |  set_style(self, style)\n |  \n |  ----------------------------------------------------------------------\n |  Data descriptors defined here:\n |  \n |  __dict__\n |      dictionary for instance variables (if defined)\n |  \n |  __weakref__\n |      list of weak references to the object (if defined)\n |  \n |  align\n |      Controls alignment of fields\n |      Arguments:\n |      \n |      align - alignment, one of \"l\", \"c\", or \"r\"\n |  \n |  attributes\n |      A dictionary of HTML attribute name/value pairs to be included in the\n |      <table> tag when printing HTML\n |      \n |      Arguments:\n |      \n |      attributes - dictionary of attributes\n |  \n |  border\n |      Controls printing of border around table\n |      \n |      Arguments:\n |      \n |      border - print a border around the table (True or False)\n |  \n |  end\n |      End index of the range of rows to print\n |      \n |      Arguments:\n |      \n |      end - index of last data row to include in output PLUS ONE (list slice style)\n |  \n |  field_names\n |      List or tuple of field names\n |      \n |      When setting field_names, if there are already field names the new list\n |      of field names must be the same length. Columns are renamed and row data\n |      remains unchanged.\n |  \n |  fields\n |      List or tuple of field names to include in displays\n |  \n |  float_format\n |      Controls formatting of floating point data\n |      Arguments:\n |      \n |      float_format - floating point format string\n |  \n |  format\n |      Controls whether or not HTML tables are formatted to match styling options\n |      \n |      Arguments:\n |      \n |      format - True or False\n |  \n |  header\n |      Controls printing of table header with field names\n |      \n |      Arguments:\n |      \n |      header - print a header showing field names (True or False)\n |  \n |  header_style\n |      Controls stylisation applied to field names in header\n |      \n |      Arguments:\n |      \n |      header_style - stylisation to apply to field names in header\n |          (\"cap\", \"title\", \"upper\", \"lower\" or None)\n |  \n |  horizontal_char\n |      The character used when printing table borders to draw horizontal lines\n |      \n |      Arguments:\n |      \n |      horizontal_char - single character string used to draw horizontal lines\n |  \n |  hrules\n |      Controls printing of horizontal rules after rows\n |      \n |      Arguments:\n |      \n |      hrules - horizontal rules style.  Allowed values: FRAME, ALL, HEADER, NONE\n |  \n |  int_format\n |      Controls formatting of integer data\n |      Arguments:\n |      \n |      int_format - integer format string\n |  \n |  junction_char\n |      The character used when printing table borders to draw line junctions\n |      \n |      Arguments:\n |      \n |      junction_char - single character string used to draw line junctions\n |  \n |  left_padding_width\n |      The number of empty spaces between a column's left edge and its content\n |      \n |      Arguments:\n |      \n |      left_padding - number of spaces, must be a positive integer\n |  \n |  max_table_width\n |  \n |  max_width\n |      Controls maximum width of fields\n |      Arguments:\n |      \n |      max_width - maximum width integer\n |  \n |  min_table_width\n |  \n |  min_width\n |      Controls minimum width of fields\n |      Arguments:\n |      \n |      min_width - minimum width integer\n |  \n |  oldsortslice\n |      oldsortslice - Slice rows before sorting in the \"old style\"\n |  \n |  padding_width\n |      The number of empty spaces between a column's edge and its content\n |      \n |      Arguments:\n |      \n |      padding_width - number of spaces, must be a positive integer\n |  \n |  print_empty\n |      Controls whether or not empty tables produce a header and frame or just an\n |      empty string\n |      \n |      Arguments:\n |      \n |      print_empty - True or False\n |  \n |  reversesort\n |      Controls direction of sorting (ascending vs descending)\n |      \n |      Arguments:\n |      \n |      reveresort - set to True to sort by descending order, or False to sort by\n |          ascending order\n |  \n |  right_padding_width\n |      The number of empty spaces between a column's right edge and its content\n |      \n |      Arguments:\n |      \n |      right_padding - number of spaces, must be a positive integer\n |  \n |  sort_key\n |      Sorting key function, applied to data points before sorting\n |      \n |      Arguments:\n |      \n |      sort_key - a function which takes one argument and returns something to be\n |      sorted\n |  \n |  sortby\n |      Name of field by which to sort rows\n |      \n |      Arguments:\n |      \n |      sortby - field name to sort by\n |  \n |  start\n |      Start index of the range of rows to print\n |      \n |      Arguments:\n |      \n |      start - index of first data row to include in output\n |  \n |  title\n |      Optional table title\n |      \n |      Arguments:\n |      \n |      title - table title\n |  \n |  valign\n |      Controls vertical alignment of fields\n |      Arguments:\n |      \n |      valign - vertical alignment, one of \"t\", \"m\", or \"b\"\n |  \n |  vertical_char\n |      The character used when printing table borders to draw vertical lines\n |      \n |      Arguments:\n |      \n |      vertical_char - single character string used to draw vertical lines\n |  \n |  vrules\n |      Controls printing of vertical rules between columns\n |      \n |      Arguments:\n |      \n |      vrules - vertical rules style.  Allowed values: FRAME, ALL, NONE\n\n"
     ]
    }
   ],
   "source": [
    "help(PrettyTable)"
   ]
  },
  {
   "cell_type": "code",
   "execution_count": 4,
   "metadata": {},
   "outputs": [],
   "source": [
    "#----------------------------------------------\n",
    "# Your code starts here\n",
    "#   Please add comments or text cells in between to explain the general idea of each block of the code.\n",
    "#   Please feel free to add more cells below this cell if necessary\n",
    "#Katie/Bryson"
   ]
  },
  {
   "cell_type": "markdown",
   "metadata": {},
   "source": [
    "# Problem 3 (20 points): Getting \"All\" friends and \"All\" followers of a popular user in twitter\n"
   ]
  },
  {
   "cell_type": "markdown",
   "metadata": {},
   "source": [
    "* choose a popular twitter user who has many followers, such as \"ladygaga\".\n",
    "* Get the list of all friends and all followers of the twitter user.\n",
    "* Plot 20 out of the followers, plot their ID numbers and screen names in a table.\n",
    "* Plot 20 out of the friends (if the user has more than 20 friends), plot their ID numbers and screen names in a table."
   ]
  },
  {
   "cell_type": "code",
   "execution_count": 5,
   "metadata": {},
   "outputs": [],
   "source": [
    "#----------------------------------------------\n",
    "# Your code starts here\n",
    "#   Please add comments or text cells in between to explain the general idea of each block of the code.\n",
    "#   Please feel free to add more cells below this cell if necessary\n",
    "\n",
    "#Bryson/Katie"
   ]
  },
  {
   "cell_type": "markdown",
   "metadata": {},
   "source": [
    "* Compute the mutual friends within the two groups, i.e., the users who are in both friend list and follower list, plot their ID numbers and screen names in a table"
   ]
  },
  {
   "cell_type": "code",
   "execution_count": 6,
   "metadata": {},
   "outputs": [],
   "source": [
    "#----------------------------------------------\n",
    "# Your code starts here\n",
    "#   Please add comments or text cells in between to explain the general idea of each block of the code.\n",
    "#   Please feel free to add more cells below this cell if necessary\n",
    "\n",
    "#Bryson/Katie"
   ]
  },
  {
   "cell_type": "markdown",
   "metadata": {},
   "source": [
    "*------------------------\n",
    "\n",
    "# Problem 4 (20 points): Business question \n",
    "\n",
    "Run some additional experiments with your data to gain familiarity with the twitter data and twitter API.\n",
    "\n",
    "* Come up with a business question that Twitter data could help answer.\n",
    "* Decribe the business case.\n",
    "* How could Twitter data help a company decide how to spend its resources."
   ]
  },
  {
   "cell_type": "code",
   "execution_count": 9,
   "metadata": {},
   "outputs": [],
   "source": [
    "#----------------------------------------------\n",
    "# Your code starts here\n",
    "#   Please add comments or text cells in between to explain the general idea of each block of the code.\n",
    "#   Please feel free to add more cells below this cell if necessary\n",
    "\n",
    "\n",
    "\n"
   ]
  },
  {
   "cell_type": "markdown",
   "metadata": {},
   "source": [
    "*-----------------\n",
    "# Done\n",
    "\n",
    "All set! \n",
    "\n",
    "** What do you need to submit?**\n",
    "\n",
    "* **Notebook File**: Save this IPython notebook, and find the notebook file in your folder (for example, \"filename.ipynb\"). This is the file you need to submit. Please make sure all the plotted tables and figures are in the notebook. If you used \"ipython notebook --pylab=inline\" to open the notebook, all the figures and tables should have shown up in the notebook.\n",
    "\n",
    "\n",
    "* **PPT Slides**: please prepare PPT slides (for 15 minutes' talk) to present about the case study . We will ask two teams which are randomly selected to present their case studies in class for this case study. \n",
    "\n",
    "Please compress all the files in a zipped file.\n",
    "\n",
    "\n",
    "** How to submit: **\n",
    "\n",
    "        Please submit through email to Prof. Paffenroth (rcpaffenroth@wpi.edu).\n",
    "\n",
    "#### We auto-process the submissions so make sure your subject line is *exactly*:\n",
    "\n",
    "### DS3010 Case Study 1 Team ??\n",
    "\n",
    "#### where ?? is your team number.\n",
    "        \n",
    "** Note: Each team just needs to submits one submission **"
   ]
  },
  {
   "cell_type": "markdown",
   "metadata": {},
   "source": [
    "# Grading Criteria:\n",
    "\n",
    "**Totoal Points: 100**\n",
    "\n",
    "\n",
    "---------------------------------------------------------------------------\n",
    "**Notebook results:**\n",
    "    Points: 80\n",
    "\n",
    "\n",
    "    -----------------------------------\n",
    "    Question 1:\n",
    "    Points: 20\n",
    "    -----------------------------------\n",
    "    \n",
    "    -----------------------------------\n",
    "    Question 2:\n",
    "    Points: 20\n",
    "    -----------------------------------\n",
    "        \n",
    "    -----------------------------------\n",
    "    Question 3:\n",
    "    Points: 20\n",
    "    -----------------------------------\n",
    "  \n",
    "    -----------------------------------\n",
    "    Question 4:  Business question\n",
    "    Points: 20\n",
    "    -----------------------------------\n",
    "        Novelty: 10\n",
    "        Interestingness: 10\n",
    "    -----------------------------------\n",
    "    Come up with a business question and describe how Twitter data and a NoSQL database such as MongoDB call help you anser it.\n",
    "\n",
    "\n",
    "---------------------------------------------------------------------------\n",
    "**Slides (for 10 minutes of presentation): Story-telling**\n",
    "    Points: 20\n",
    "\n",
    "\n",
    "1. Motivation about the data collection, why the topic is interesting to you.\n",
    "    Points: 5 \n",
    "\n",
    "2. Communicating Results (figure/table)\n",
    "    Points: 10 \n",
    "\n",
    "3. Story telling (How all the parts (data, analysis, result) fit together as a story?)\n",
    "    Points: 5 \n",
    "\n",
    "\n"
   ]
  },
  {
   "cell_type": "code",
   "execution_count": null,
   "metadata": {},
   "outputs": [],
   "source": []
  }
 ],
 "metadata": {
  "anaconda-cloud": {},
  "kernel_info": {
   "name": "python3"
  },
  "kernelspec": {
   "display_name": "Python 3",
   "language": "python",
   "name": "python3"
  },
  "language_info": {
   "codemirror_mode": {
    "name": "ipython",
    "version": 3
   },
   "file_extension": ".py",
   "mimetype": "text/x-python",
   "name": "python",
   "nbconvert_exporter": "python",
   "pygments_lexer": "ipython3",
   "version": "3.8.5-final"
  },
  "nteract": {
   "version": "0.2.0"
  }
 },
 "nbformat": 4,
 "nbformat_minor": 4
}